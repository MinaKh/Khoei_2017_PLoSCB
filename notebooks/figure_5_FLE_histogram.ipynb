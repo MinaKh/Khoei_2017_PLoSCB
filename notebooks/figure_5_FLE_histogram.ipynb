{
 "cells": [
  {
   "cell_type": "code",
   "execution_count": 1,
   "metadata": {
    "collapsed": false,
    "deletable": true,
    "editable": true
   },
   "outputs": [
    {
     "name": "stderr",
     "output_type": "stream",
     "text": [
      "/usr/local/lib/python3.6/site-packages/matplotlib/__init__.py:1401: UserWarning:  This call to matplotlib.use() has no effect\n",
      "because the backend has already been chosen;\n",
      "matplotlib.use() must be called *before* pylab, matplotlib.pyplot,\n",
      "or matplotlib.backends is imported for the first time.\n",
      "\n",
      "  warnings.warn(_use_error_msg)\n"
     ]
    }
   ],
   "source": [
    "%load_ext autoreload\n",
    "%autoreload 2\n",
    "%matplotlib inline\n",
    "\n",
    "%cd -q ../scripts/\n",
    "from default_param import *"
   ]
  },
  {
   "cell_type": "markdown",
   "metadata": {
    "collapsed": true,
    "deletable": true,
    "editable": true
   },
   "source": [
    "#  FLE_histogram\n",
    "\n"
   ]
  },
  {
   "cell_type": "raw",
   "metadata": {
    "collapsed": false,
    "deletable": true,
    "editable": true
   },
   "source": [
    "from default_param import *\n",
    "%matplotlib inline\n",
    "%config InlineBackend.figure_format='retina'\n",
    "#%config InlineBackend.figure_format = 'svg'\n",
    "import matplotlib.pyplot as plt\n",
    "import numpy as np\n",
    "np.set_printoptions(precision=6, suppress=True)\n",
    "%load_ext autoreload\n",
    "%autoreload 2\n",
    "import MotionParticles as mp"
   ]
  },
  {
   "cell_type": "code",
   "execution_count": 2,
   "metadata": {
    "collapsed": false,
    "deletable": true,
    "editable": true
   },
   "outputs": [
    {
     "name": "stdout",
     "output_type": "stream",
     "text": [
      "Sequence results/FLE-dot-anim.mp4 already exists (remove to recompute)\n",
      "Studying CONDENSATION by changing image along variable(s) : {'latency': [0, 10]}\n",
      "Studying CONDENSATION by changing image along variable(s) : {'latency': [0, 10]}\n",
      "Sequence results/FLE-flash-anim.mp4 already exists (remove to recompute)\n",
      "Studying CONDENSATION by changing image along variable(s) : {'latency': [0, 10]}\n",
      "Studying CONDENSATION by changing image along variable(s) : {'latency': [0, 10]}\n"
     ]
    }
   ],
   "source": [
    "%run experiment_fle.py"
   ]
  },
  {
   "cell_type": "markdown",
   "metadata": {
    "deletable": true,
    "editable": true
   },
   "source": [
    "## x-t histograms of the results"
   ]
  },
  {
   "cell_type": "markdown",
   "metadata": {
    "deletable": true,
    "editable": true
   },
   "source": [
    "First showing the histogram of detected positions for both stimuli:"
   ]
  },
  {
   "cell_type": "code",
   "execution_count": 3,
   "metadata": {
    "collapsed": false,
    "deletable": true,
    "editable": true
   },
   "outputs": [],
   "source": [
    "v_hist = {}\n",
    "time = np.linspace(0, 1, N_frame)\n",
    "for i, stimulus_tag in enumerate(stim_labels):\n",
    "    particles = image[stimulus_tag]['result']['MBP'][10].copy()\n",
    "    v_hist[stimulus_tag], x_edges, y_edges = mp.spatial_readout(particles, N_quant_X=N_quant_X, N_quant_Y=1, display=False)\n",
    "    v_hist[stimulus_tag] /= np.sum(v_hist[stimulus_tag], axis=0)\n"
   ]
  },
  {
   "cell_type": "code",
   "execution_count": null,
   "metadata": {
    "collapsed": false,
    "deletable": true,
    "editable": true
   },
   "outputs": [
    {
     "name": "stdout",
     "output_type": "stream",
     "text": [
      "Position of the middle of the bins = [-0.98 -0.94 -0.9  -0.86 -0.82 -0.78 -0.74 -0.7  -0.66 -0.62 -0.58 -0.54\n",
      " -0.5  -0.46 -0.42 -0.38 -0.34 -0.3  -0.26 -0.22 -0.18 -0.14 -0.1  -0.06\n",
      " -0.02  0.02  0.06  0.1   0.14  0.18  0.22  0.26  0.3   0.34  0.38  0.42\n",
      "  0.46  0.5   0.54  0.58  0.62  0.66  0.7   0.74  0.78  0.82  0.86  0.9\n",
      "  0.94  0.98]\n"
     ]
    }
   ],
   "source": [
    "_, x_edges, y_edges = mp.spatial_readout(particles, N_quant_X=N_quant_Y, N_quant_Y=N_quant_Y, display=False)\n",
    "x_middle = .5*(x_edges[1:] + x_edges[:-1])\n",
    "print('Position of the middle of the bins =', x_middle)\n",
    "y_middle = .5*(y_edges[1:] + y_edges[:-1])"
   ]
  },
  {
   "cell_type": "code",
   "execution_count": null,
   "metadata": {
    "collapsed": false,
    "deletable": true,
    "editable": true
   },
   "outputs": [],
   "source": [
    "#fig, axs = plt.subplots(1, 2, figsize=(2*fig_width, fig_width /2))\n",
    "for j, (latency, dlabel) in enumerate(zip(latencies, ['source', 'target'])):\n",
    "    for i, stimulus_tag in enumerate(stim_labels):\n",
    "        particles = image[stimulus_tag]['result']['MBP'][latency].copy()  \n",
    "        fig, axs = mp.spatial_readout(particles, N_quant_X=N_quant_Y, N_quant_Y=1)#, fig=fig, a=axs[i])\n",
    "        average_pos = np.sum(v_hist[stimulus_tag]*x_middle[:, np.newaxis], axis=0)\n",
    "        axs[0].plot(time, average_pos, lw=4, ls='--')\n",
    "        axs[1].set_title(dlabel + ' - ' + stimulus_tag)\n"
   ]
  },
  {
   "cell_type": "raw",
   "metadata": {
    "deletable": true,
    "editable": true
   },
   "source": [
    "fig, axs = plt.subplots(1, 2, figsize=(fig_width, fig_width/1.618))\n",
    "for ax in axs.ravel(): \n",
    "    ax.axis(c='b', lw=2, axisbg='w')\n",
    "    ax.set_axis_bgcolor('w')\n",
    "    \n",
    "stimulus_tag == 'flash'\n",
    "v_hist = {}\n",
    "\n",
    "for i, (latency, dlabel) in enumerate(zip(latencies, ['source', 'target'])):\n",
    "    particles = image[stimulus_tag]['result']['MBP'][latency].copy()\n",
    "    if latency is 0:\n",
    "        particles = np.roll(particles, 10, axis=-1)\n",
    "\n",
    "    v_hist[latency], x_edges, y_edges = mp.spatial_readout(particles, N_quant_X=N_quant_Y, N_quant_Y=1, display=False)\n",
    "    v_hist[latency] /= np.sum(v_hist[latency])\n",
    "\n",
    "    Time, X = np.meshgrid(np.linspace(0, 1, N_frame), x_edges)#x_middle)# .5*(x_edges_[:-1]+x_edges_[1:]))\n",
    "    axs[i].pcolor(Time, X, v_hist[latency], cmap=plt.cm.Blues, vmin=0., vmax=v_hist[latency].max(), edgecolor=(.1, .1, .1, .6))\n",
    "\n",
    "    \n",
    "    axs[i].plot([.2, .8], [-.6, .6], 'k:', lw=4)\n",
    "    axs[i].plot([.3, .9], [-.6, .6], 'g:', lw=4)\n",
    "\n",
    "    axs[i].plot([.2, .9], [-.6, -.6], 'r--', lw=2)\n",
    "    axs[i].plot([.2, .9], [.6, .6], 'r--', lw=2)\n",
    "\n",
    "    axs[i].set_title(dlabel)\n",
    "\n",
    "    for c, xs in zip(['k', 'g'], [[.2, .5, .8], [.3, .6, .9]]):\n",
    "        for x in xs:\n",
    "            axs[i].plot([x, x], [-.6, .6], ls='--', lw=2, c=c)\n",
    "axs[0].set_xlabel('Time (s)')\n",
    "axs[0].set_ylabel('Space (a.u.)')\n",
    "axs[1].set_xlabel('Time (s)')\n",
    "plt.tight_layout()\n",
    "for ext in FORMATS: fig.savefig(os.path.join('../figures/', 'FLE_histogram' + ext))"
   ]
  },
  {
   "cell_type": "code",
   "execution_count": null,
   "metadata": {
    "collapsed": false,
    "deletable": true,
    "editable": true
   },
   "outputs": [],
   "source": [
    "fig, axs = plt.subplots(2, 2, figsize=(fig_width, fig_width/1.618))\n",
    "\n",
    "\n",
    "for ax in axs.ravel(): \n",
    "    ax.axis(c='b', lw=2, axisbg='w')\n",
    "    ax.set_facecolor('w')\n",
    "    \n",
    "stimulus_tag = 'dot'\n",
    "v_hist = {}\n",
    "\n",
    "for i, (latency, dlabel) in enumerate(zip(latencies, ['source layer', 'target layer'])):\n",
    "    particles = image[stimulus_tag]['result']['MBP'][latency].copy()\n",
    "    if latency is 0:\n",
    "        particles = np.roll(particles, 10, axis=-1)\n",
    "\n",
    "    v_hist[latency], x_edges, y_edges = mp.spatial_readout(particles, N_quant_X=N_quant_Y, N_quant_Y=1, display=False)\n",
    "    v_hist[latency] /= np.sum(v_hist[latency])\n",
    "    v_hist[latency] /= v_hist[latency].max(axis=0)[np.newaxis, :]\n",
    "\n",
    "    Time, X = np.meshgrid(np.linspace(0, 1, N_frame), x_edges)\n",
    "    axs[1][i].pcolormesh(Time[:, 10:], X[:, 10:], v_hist[latency][:, 10:], cmap=plt.cm.Blues, vmin=0., vmax=v_hist[latency].max())#, edgecolor=(1, 1, 1, 1.))\n",
    "\n",
    "    v_hist_u = np.zeros((N_quant_X, N_frame))\n",
    "    u_edges = np.linspace(-1.5, 1.5, N_quant_X+1)\n",
    "    for t in range(N_frame) :\n",
    "        u = particles[2, :, t]\n",
    "        weights = particles[4,  :, t]\n",
    "        v_hist_u[:, t], u_edges_ = np.histogram(u, u_edges, normed=False, weights=weights)\n",
    "\n",
    "    v_hist_u /= v_hist_u.max(axis=0)[np.newaxis, :]\n",
    "        \n",
    "    Time, U = np.meshgrid(np.linspace(0, 1, N_frame), u_edges_)\n",
    "    axs[0][i].pcolormesh(Time[:, 10:], U[:, 10:], v_hist_u[:, 10:], cmap=plt.cm.Reds, vmin=0., vmax=v_hist_u.max())#, edgecolor=(1, 1, 1, 1.))\n",
    "    axs[1][i].plot([.2, .8], [-.6, .6], 'k:', lw=3)\n",
    "    axs[1][i].plot([.3, .9], [-.6, .6], 'g:', lw=3)\n",
    "\n",
    "    axs[1][i].plot([.2, .9], [-.6, -.6], 'r--', lw=2)\n",
    "    axs[1][i].plot([.2, .9], [.6, .6], 'r--', lw=2)\n",
    "    axs[0][i].plot([.2, .9], [0., 0.], 'r--', lw=2)\n",
    "    axs[0][i].plot([.2, .9], [1., 1.], 'r--', lw=2)\n",
    "    axs[0][i].set_title(dlabel)\n",
    "    \n",
    "    for k, vmin, vmax in zip(range(2), [0., -.6], [1., .6]):\n",
    "        for c, xs in zip(['k', 'g'], [[.2, .5, .8], [.3, .6, .9]]):\n",
    "            for x in xs:\n",
    "                axs[k][i].plot([x, x], [vmin, vmax], ls='--', lw=2, c=c)\n",
    "                \n",
    "    for j in [0, 1]:\n",
    "        axs[j][i].locator_params(axis = 'x', nbins = 6)\n",
    "        axs[j][i].locator_params(axis = 'y', nbins = 3-2*(j-1)) # HACK  \n",
    "        axs[j][i].axis('tight')\n",
    "                      \n",
    "    plt.setp(axs[0][i], xticks=[])\n",
    "    plt.setp(axs[0][1], yticks=[])\n",
    "    plt.setp(axs[1][1], yticks=[])\n",
    "\n",
    "axs[1][0].set_xlabel('Time (s)')\n",
    "axs[0][0].set_ylabel('Velocity (a.u.)')\n",
    "axs[1][0].set_ylabel('Position (a.u.)')\n",
    "axs[1][1].set_xlabel('Time (s)')\n",
    "plt.tight_layout()\n",
    "for ext in FORMATS: fig.savefig(os.path.join('../figures/', 'FLE_histogram' + ext))"
   ]
  },
  {
   "cell_type": "markdown",
   "metadata": {
    "deletable": true,
    "editable": true
   },
   "source": [
    "## smoothing"
   ]
  },
  {
   "cell_type": "code",
   "execution_count": null,
   "metadata": {
    "collapsed": false,
    "deletable": true,
    "editable": true
   },
   "outputs": [],
   "source": [
    "particles = image['dot']['result']['MBP'][10].copy()  \n",
    "fig, axs = mp.spatial_readout(particles, N_quant_X=N_quant_Y, N_quant_Y=1)#, fig=fig, a=axs[i])"
   ]
  },
  {
   "cell_type": "code",
   "execution_count": null,
   "metadata": {
    "collapsed": false,
    "deletable": true,
    "editable": true,
    "scrolled": true
   },
   "outputs": [],
   "source": [
    "particles = image['dot']['result']['MBP'][0].copy()  \n",
    "for i in range(12, 5):\n",
    "    fig, axs = mp.spatial_readout(mp.push(particles, i,  N_frame=N_frame), N_quant_X=N_quant_Y, N_quant_Y=1)\n",
    "    fig.show()"
   ]
  },
  {
   "cell_type": "raw",
   "metadata": {
    "collapsed": false,
    "deletable": true,
    "editable": true
   },
   "source": [
    "for i in range(2, 18, 5):\n",
    "    print(i)\n",
    "    particles = image['dot']['result']['MBP'][10].copy()\n",
    "    fig, axs = mp.spatial_readout(mp.push(particles, -i,  N_frame=N_frame), N_quant_X=N_quant_Y, N_quant_Y=1)\n",
    "    plt.show()"
   ]
  },
  {
   "cell_type": "markdown",
   "metadata": {
    "deletable": true,
    "editable": true
   },
   "source": [
    "## post-prod"
   ]
  },
  {
   "cell_type": "code",
   "execution_count": null,
   "metadata": {
    "collapsed": false,
    "deletable": true,
    "editable": true
   },
   "outputs": [],
   "source": [
    "!convert -density 400 ../figures/FLE_histogram.pdf ../figures/FLE_histogram.jpg\n",
    "!convert  -density 600 -units pixelsperinch -flatten  -compress lzw  -depth 8 ../figures/FLE_histogram.pdf ../figures/FLE_histogram.tiff\n",
    "\n",
    "from IPython.display import Image\n",
    "Image('../figures/FLE_histogram.jpg')"
   ]
  },
  {
   "cell_type": "markdown",
   "metadata": {
    "deletable": true,
    "editable": true
   },
   "source": [
    "## side-by-side comparison"
   ]
  },
  {
   "cell_type": "code",
   "execution_count": null,
   "metadata": {
    "collapsed": false,
    "deletable": true,
    "editable": true
   },
   "outputs": [],
   "source": [
    "fig, axs = plt.subplots(2, 2, figsize=(fig_width, fig_width/1.618))\n",
    "\n",
    "for ax in axs.ravel(): \n",
    "    ax.axis(c='b', lw=2, axisbg='w')\n",
    "    ax.set_facecolor('w')\n",
    "    \n",
    "v_hist = {}\n",
    "\n",
    "latency = 10\n",
    "for i, method in enumerate(['PBP', 'MBP']):\n",
    "    particles_full = np.zeros((5, 0, mp.N_frame))\n",
    "    for k, (stimulus_tag, cmap, color) in enumerate(zip(stim_labels, [plt.cm.Greens, plt.cm.Reds], ['g', 'r'])):\n",
    "        particles = image[stimulus_tag]['result'][method][latency].copy()\n",
    "\n",
    "        if stimulus_tag == 'flash':\n",
    "            particles[1, ...] = mp.torus(particles[1, ...] + .1, mp.width)\n",
    "        else:\n",
    "            particles[1, ...] = mp.torus(particles[1, ...] - .1, mp.width)\n",
    "        particles_full = np.concatenate((particles_full, particles), axis=1)\n",
    "    #particles_full = np.roll(particles_full, -latency, axis=-1)\n",
    "    \n",
    "\n",
    "stimulus_tag = 'dot'\n",
    "for i, (latency, dlabel) in enumerate(zip(latencies, ['PBP', 'MBP'])):\n",
    "    particles = image[stimulus_tag]['result']['MBP'][latency].copy()\n",
    "    if latency is 0:\n",
    "        particles = np.roll(particles, 10, axis=-1)\n",
    "\n",
    "\n",
    "\n",
    "    v_hist[method], x_edges, y_edges = mp.spatial_readout(particles, N_quant_X=N_quant_Y, N_quant_Y=1, display=False)\n",
    "    v_hist[method] /= np.sum(v_hist[method])\n",
    "    v_hist[method] /= v_hist[method].max(axis=0)[np.newaxis, :]\n",
    "\n",
    "    Time, X = np.meshgrid(np.linspace(0, 1, N_frame), x_edges)\n",
    "    axs[1][i].pcolormesh(Time[:, 10:], X[:, 10:], v_hist[method][:, 10:], cmap=plt.cm.Blues, vmin=0., vmax=v_hist[method].max())#, edgecolor=(1, 1, 1, 1.))\n",
    "\n",
    "    v_hist_u = np.zeros((N_quant_X, N_frame))\n",
    "    u_edges = np.linspace(-1.5, 1.5, N_quant_X+1)\n",
    "    for t in range(N_frame) :\n",
    "        u = particles[2, :, t]\n",
    "        weights = particles[4,  :, t]\n",
    "        v_hist_u[:, t], u_edges_ = np.histogram(u, u_edges, normed=False, weights=weights)\n",
    "\n",
    "    v_hist_u /= v_hist_u.max(axis=0)[np.newaxis, :]\n",
    "        \n",
    "    Time, U = np.meshgrid(np.linspace(0, 1, N_frame), u_edges_)\n",
    "    axs[0][i].pcolormesh(Time[:, 10:], U[:, 10:], v_hist_u[:, 10:], cmap=plt.cm.Reds, vmin=0., vmax=v_hist_u.max())#, edgecolor=(1, 1, 1, 1.))\n",
    "    axs[1][i].plot([.2, .8], [-.6, .6], 'k:', lw=3)\n",
    "    axs[1][i].plot([.3, .9], [-.6, .6], 'g:', lw=3)\n",
    "\n",
    "    axs[1][i].plot([.2, .9], [-.6, -.6], 'r--', lw=2)\n",
    "    axs[1][i].plot([.2, .9], [.6, .6], 'r--', lw=2)\n",
    "    axs[0][i].plot([.2, .9], [0., 0.], 'r--', lw=2)\n",
    "    axs[0][i].plot([.2, .9], [1., 1.], 'r--', lw=2)\n",
    "    axs[0][i].set_title(dlabel)\n",
    "    \n",
    "    for k, vmin, vmax in zip(range(2), [0., -.6], [1., .6]):\n",
    "        for c, xs in zip(['k', 'g'], [[.2, .5, .8], [.3, .6, .9]]):\n",
    "            for x in xs:\n",
    "                axs[k][i].plot([x, x], [vmin, vmax], ls='--', lw=2, c=c)\n",
    "                \n",
    "    for j in [0, 1]:\n",
    "        axs[j][i].locator_params(axis = 'x', nbins = 6)\n",
    "        axs[j][i].locator_params(axis = 'y', nbins = 3-2*(j-1)) # HACK  \n",
    "        axs[j][i].axis('tight')\n",
    "                      \n",
    "    plt.setp(axs[0][i], xticks=[])\n",
    "    plt.setp(axs[0][1], yticks=[])\n",
    "    plt.setp(axs[1][1], yticks=[])\n",
    "\n",
    "axs[1][0].set_xlabel('Time (s)')\n",
    "axs[0][0].set_ylabel('Velocity (a.u.)')\n",
    "axs[1][0].set_ylabel('Position (a.u.)')\n",
    "axs[1][1].set_xlabel('Time (s)')\n",
    "plt.tight_layout()\n",
    "for ext in FORMATS: fig.savefig(os.path.join('../figures/', 'FLE_histogram_comp' + ext))"
   ]
  },
  {
   "cell_type": "code",
   "execution_count": null,
   "metadata": {
    "collapsed": false,
    "deletable": true,
    "editable": true
   },
   "outputs": [],
   "source": [
    "!convert -density 400 ../figures/FLE_histogram_comp.pdf ../figures/FLE_histogram_comp.jpg\n",
    "!convert  -density 600 -units pixelsperinch -flatten  -compress lzw  -depth 8 ../figures/FLE_histogram_comp.pdf ../figures/FLE_histogram_comp.tiff\n",
    "\n",
    "from IPython.display import Image\n",
    "Image('../figures/FLE_histogram_comp.jpg')"
   ]
  },
  {
   "cell_type": "markdown",
   "metadata": {
    "deletable": true,
    "editable": true
   },
   "source": [
    "## version control"
   ]
  },
  {
   "cell_type": "code",
   "execution_count": null,
   "metadata": {
    "collapsed": false,
    "deletable": true,
    "editable": true,
    "scrolled": false
   },
   "outputs": [],
   "source": [
    "#!git pull\n",
    "!git status"
   ]
  },
  {
   "cell_type": "code",
   "execution_count": null,
   "metadata": {
    "collapsed": false,
    "deletable": true,
    "editable": true
   },
   "outputs": [],
   "source": [
    "!git commit -m' figure FLE : FLE_histogram'  ../khoei17fle.tex ../figures/FLE_histogram*   ../notebooks/figure_5_FLE_histogram.ipynb \n",
    "!# git push"
   ]
  },
  {
   "cell_type": "raw",
   "metadata": {
    "collapsed": false,
    "deletable": true,
    "editable": true
   },
   "source": [
    "!git status"
   ]
  }
 ],
 "metadata": {
  "kernelspec": {
   "display_name": "Python 3",
   "language": "python",
   "name": "python3"
  },
  "language_info": {
   "codemirror_mode": {
    "name": "ipython",
    "version": 3
   },
   "file_extension": ".py",
   "mimetype": "text/x-python",
   "name": "python",
   "nbconvert_exporter": "python",
   "pygments_lexer": "ipython3",
   "version": "3.6.0"
  }
 },
 "nbformat": 4,
 "nbformat_minor": 0
}
