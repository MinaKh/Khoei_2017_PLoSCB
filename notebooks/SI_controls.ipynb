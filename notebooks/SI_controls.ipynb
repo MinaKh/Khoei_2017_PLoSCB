{
 "cells": [
  {
   "cell_type": "code",
   "execution_count": 1,
   "metadata": {
    "collapsed": true,
    "deletable": true,
    "editable": true
   },
   "outputs": [],
   "source": [
    "%load_ext autoreload\n",
    "%autoreload 2\n",
    "%cd -q ../scripts/\n",
    "from default_param import *\n",
    "\n",
    "%matplotlib inline"
   ]
  },
  {
   "cell_type": "markdown",
   "metadata": {
    "deletable": true,
    "editable": true
   },
   "source": [
    "#  FLE\n",
    "\n",
    "\n",
    "In this script the CONDENSATION is done for rightward and leftward motion of a dot stimulus, at different levels of noise. also for flashing stimuli needed for simulation of flash initiated and flash_terminated FLEs. \n",
    "The aim is to generate generate (Berry et al 99)'s figure 2: shifting RF position in the direction of motion.\n",
    "\n"
   ]
  },
  {
   "cell_type": "markdown",
   "metadata": {
    "deletable": true,
    "editable": true
   },
   "source": [
    "## Initialization of notebook"
   ]
  },
  {
   "cell_type": "code",
   "execution_count": 2,
   "metadata": {
    "collapsed": false,
    "deletable": true,
    "editable": true
   },
   "outputs": [
    {
     "name": "stdout",
     "output_type": "stream",
     "text": [
      "Overwriting experiment_SI_controls.py\n"
     ]
    }
   ],
   "source": [
    "%%writefile experiment_SI_controls.py\n",
    "\"\"\"\n",
    "A bunch of control runs\n",
    "\n",
    "\"\"\"\n",
    "import MotionParticles as mp\n",
    "gen_dot = mp.generate_dot\n",
    "import numpy as np\n",
    "import os\n",
    "from default_param import *\n",
    "\n",
    "image = {}\n",
    "experiment = 'SI'\n",
    "N_scan = 5\n",
    "base = 10.\n",
    "\n",
    "#mp.N_trials = 4\n",
    "for stimulus_tag, im_arg in zip(stim_labels, stim_args):\n",
    "#for stimulus_tag, im_arg in zip(stim_labels[1], stim_args[1]):\n",
    "    #for D_x, D_V, label in zip([mp.D_x, PBP_D_x], [mp.D_V, PBP_D_V], ['MBP', 'PBP']):\n",
    "    for D_x, D_V, label in zip([mp.D_x], [mp.D_V], ['MBP']):\n",
    "        im_arg.update(D_V=D_V, D_x=D_x)\n",
    "\n",
    "        _  = mp.figure_image_variable(\n",
    "                os.path.join(mp.figpath, experiment + '-' + stimulus_tag + '-' + label), \n",
    "                N_X, N_Y, N_frame, gen_dot, order=None, do_figure=do_figure, do_video=do_video, N_quant_X=N_quant_X, N_quant_Y=N_quant_Y,\n",
    "                fixed_args=im_arg, \n",
    "                D_x=im_arg['D_x']*np.logspace(-2, 2, N_scan, base=base))\n",
    "\n",
    "        _  = mp.figure_image_variable(\n",
    "                os.path.join(mp.figpath, experiment + '-' + stimulus_tag + '-' + label),\n",
    "                N_X, N_Y, N_frame, gen_dot, order=None, do_figure=do_figure, do_video=do_video, N_quant_X=N_quant_X, N_quant_Y=N_quant_Y,\n",
    "                fixed_args=im_arg, \n",
    "                D_V=im_arg['D_V']*np.logspace(-2, 2, N_scan, base=base))\n",
    "\n",
    "        _  = mp.figure_image_variable(\n",
    "                os.path.join(mp.figpath, experiment + '-' + stimulus_tag + '-' + label), \n",
    "                N_X, N_Y, N_frame, gen_dot, order=None, do_figure=do_figure, do_video=do_video, N_quant_X=N_quant_X, N_quant_Y=N_quant_Y,\n",
    "                fixed_args=im_arg, \n",
    "                sigma_motion=mp.sigma_motion*np.logspace(-1., 1., N_scan, base=base))\n",
    "\n",
    "        _  = mp.figure_image_variable(\n",
    "                os.path.join(mp.figpath, experiment + '-' + stimulus_tag + '-' + label), \n",
    "                N_X, N_Y, N_frame, gen_dot, order=None, do_figure=do_figure, do_video=do_video, N_quant_X=N_quant_X, N_quant_Y=N_quant_Y,\n",
    "                fixed_args=im_arg, \n",
    "                K_motion=mp.K_motion*np.logspace(-1., 1., N_scan, base=base))\n",
    "\n",
    "        _  = mp.figure_image_variable(\n",
    "                os.path.join(mp.figpath, experiment + '-' + stimulus_tag + '-' + label), \n",
    "                N_X, N_Y, N_frame, gen_dot, order=None, do_figure=do_figure, do_video=do_video, N_quant_X=N_quant_X, N_quant_Y=N_quant_Y,\n",
    "                fixed_args=im_arg, \n",
    "                dot_size=im_arg['dot_size']*np.logspace(-1., 1., N_scan, base=base))\n",
    "        \n",
    "        _  = mp.figure_image_variable(\n",
    "                os.path.join(mp.figpath, experiment + '-' + stimulus_tag + '-' + label),\n",
    "                N_X, N_Y, N_frame, gen_dot, order=None, do_figure=do_figure, do_video=do_video, N_quant_X=N_quant_X, N_quant_Y=N_quant_Y,\n",
    "                fixed_args=im_arg, \n",
    "                sigma_I=mp.sigma_I*np.logspace(-1, 1, N_scan, base=base))\n",
    "\n",
    "        _  = mp.figure_image_variable(\n",
    "                os.path.join(mp.figpath, experiment + '-' + stimulus_tag + '-' + label),\n",
    "                N_X, N_Y, N_frame, gen_dot, order=None, do_figure=do_figure, do_video=do_video, N_quant_X=N_quant_X, N_quant_Y=N_quant_Y,\n",
    "                fixed_args=im_arg, \n",
    "                im_noise=mp.im_noise*np.logspace(-1, 1, N_scan, base=base))\n",
    "\n",
    "        _  = mp.figure_image_variable(\n",
    "                os.path.join(mp.figpath, experiment + '-' + stimulus_tag + '-' + label),\n",
    "                N_X, N_Y, N_frame, gen_dot, order=None, do_figure=do_figure, do_video=do_video, N_quant_X=N_quant_X, N_quant_Y=N_quant_Y,\n",
    "                fixed_args=im_arg, \n",
    "                sigma_noise=mp.sigma_noise*np.logspace(-1, 1, N_scan, base=base))\n",
    "\n",
    "        _  = mp.figure_image_variable(\n",
    "                os.path.join(mp.figpath, experiment + '-' + stimulus_tag + '-' + label),\n",
    "                N_X, N_Y, N_frame, gen_dot, order=None, do_figure=do_figure, do_video=do_video, N_quant_X=N_quant_X, N_quant_Y=N_quant_Y,\n",
    "                fixed_args=im_arg, \n",
    "                p_epsilon=mp.p_epsilon*np.logspace(-1, 1, N_scan, base=base))\n",
    "\n",
    "        _  = mp.figure_image_variable(\n",
    "                os.path.join(mp.figpath, experiment + '-' + stimulus_tag + '-' + label), \n",
    "                N_X, N_Y, N_frame, gen_dot, order=None, do_figure=do_figure, do_video=do_video, N_quant_X=N_quant_X, N_quant_Y=N_quant_Y,\n",
    "                fixed_args=im_arg, \n",
    "                v_init=mp.v_init*np.logspace(-1., 1., N_scan, base=base))\n",
    "\n",
    "        _  = mp.figure_image_variable(\n",
    "                os.path.join(mp.figpath, experiment + '-' + stimulus_tag + '-' + label), \n",
    "                N_X, N_Y, N_frame, gen_dot, order=None, do_figure=do_figure, do_video=do_video, N_quant_X=N_quant_X, N_quant_Y=N_quant_Y,\n",
    "                fixed_args=im_arg, \n",
    "                v_prior=np.logspace(-.3, 5., N_scan, base=base))\n",
    "        \n",
    "        _  = mp.figure_image_variable(\n",
    "                os.path.join(mp.figpath, experiment + '-' + stimulus_tag + '-' + label), \n",
    "                N_X, N_Y, N_frame, gen_dot, order=None, do_figure=do_figure, do_video=do_video, N_quant_X=N_quant_X, N_quant_Y=N_quant_Y,\n",
    "                fixed_args=im_arg, \n",
    "                resample=np.linspace(0.1, 1., N_scan, endpoint=True))\n",
    "                "
   ]
  },
  {
   "cell_type": "code",
   "execution_count": 3,
   "metadata": {
    "collapsed": false,
    "deletable": true,
    "editable": true
   },
   "outputs": [
    {
     "name": "stdout",
     "output_type": "stream",
     "text": [
      "Studying CONDENSATION by changing image along variable(s) : {'D_x': array([  1.0000e-02,   1.0000e-01,   1.0000e+00,   1.0000e+01,   1.0000e+02])}\n",
      "Studying CONDENSATION by changing image along variable(s) : {'D_V': array([  1.0000e-02,   1.0000e-01,   1.0000e+00,   1.0000e+01,   1.0000e+02])}\n",
      "Studying CONDENSATION by changing image along variable(s) : {'sigma_motion': array([ 0.01  ,  0.0316,  0.1   ,  0.3162,  1.    ])}\n",
      "Studying CONDENSATION by changing image along variable(s) : {'K_motion': array([ 0.0001,  0.0003,  0.001 ,  0.0032,  0.01  ])}\n",
      "Studying CONDENSATION by changing image along variable(s) : {'dot_size': array([ 0.005 ,  0.0158,  0.05  ,  0.1581,  0.5   ])}\n",
      "Studying CONDENSATION by changing image along variable(s) : {'sigma_I': array([ 0.025 ,  0.0791,  0.25  ,  0.7906,  2.5   ])}\n",
      "Studying CONDENSATION by changing image along variable(s) : {'im_noise': array([ 0.005 ,  0.0158,  0.05  ,  0.1581,  0.5   ])}\n",
      "Studying CONDENSATION by changing image along variable(s) : {'sigma_noise': array([ 0.005 ,  0.0158,  0.05  ,  0.1581,  0.5   ])}\n",
      "Studying CONDENSATION by changing image along variable(s) : {'p_epsilon': array([ 0.01  ,  0.0316,  0.1   ,  0.3162,  1.    ])}\n",
      "Studying CONDENSATION by changing image along variable(s) : {'v_init': array([  0.3   ,   0.9487,   3.    ,   9.4868,  30.    ])}\n",
      "Studying CONDENSATION by changing image along variable(s) : {'v_prior': array([  5.0119e-01,   1.0593e+01,   2.2387e+02,   4.7315e+03,   1.0000e+05])}\n",
      "Studying CONDENSATION by changing image along variable(s) : {'resample': array([ 0.1  ,  0.325,  0.55 ,  0.775,  1.   ])}\n",
      "Studying CONDENSATION by changing image along variable(s) : {'D_x': array([  1.0000e-02,   1.0000e-01,   1.0000e+00,   1.0000e+01,   1.0000e+02])}\n",
      "Studying CONDENSATION by changing image along variable(s) : {'D_V': array([  1.0000e-02,   1.0000e-01,   1.0000e+00,   1.0000e+01,   1.0000e+02])}\n",
      "Studying CONDENSATION by changing image along variable(s) : {'sigma_motion': array([ 0.01  ,  0.0316,  0.1   ,  0.3162,  1.    ])}\n",
      "Studying CONDENSATION by changing image along variable(s) : {'K_motion': array([ 0.0001,  0.0003,  0.001 ,  0.0032,  0.01  ])}\n",
      "Studying CONDENSATION by changing image along variable(s) : {'dot_size': array([ 0.005 ,  0.0158,  0.05  ,  0.1581,  0.5   ])}\n",
      "Studying CONDENSATION by changing image along variable(s) : {'sigma_I': array([ 0.025 ,  0.0791,  0.25  ,  0.7906,  2.5   ])}\n",
      "Studying CONDENSATION by changing image along variable(s) : {'im_noise': array([ 0.005 ,  0.0158,  0.05  ,  0.1581,  0.5   ])}\n",
      "Studying CONDENSATION by changing image along variable(s) : {'sigma_noise': array([ 0.005 ,  0.0158,  0.05  ,  0.1581,  0.5   ])}\n",
      "Studying CONDENSATION by changing image along variable(s) : {'p_epsilon': array([ 0.01  ,  0.0316,  0.1   ,  0.3162,  1.    ])}\n",
      "Studying CONDENSATION by changing image along variable(s) : {'v_init': array([  0.3   ,   0.9487,   3.    ,   9.4868,  30.    ])}\n",
      "Studying CONDENSATION by changing image along variable(s) : {'v_prior': array([  5.0119e-01,   1.0593e+01,   2.2387e+02,   4.7315e+03,   1.0000e+05])}\n",
      "Studying CONDENSATION by changing image along variable(s) : {'resample': array([ 0.1  ,  0.325,  0.55 ,  0.775,  1.   ])}\n"
     ]
    }
   ],
   "source": [
    "%run experiment_SI_controls.py"
   ]
  },
  {
   "cell_type": "markdown",
   "metadata": {
    "deletable": true,
    "editable": true
   },
   "source": [
    "TODO : show results with a widget"
   ]
  },
  {
   "cell_type": "code",
   "execution_count": 4,
   "metadata": {
    "collapsed": false,
    "deletable": true,
    "editable": true
   },
   "outputs": [
    {
     "name": "stdout",
     "output_type": "stream",
     "text": [
      "[master 0e95ca3]  SI controls\r\n",
      " 1 file changed, 2 insertions(+), 133 deletions(-)\r\n"
     ]
    }
   ],
   "source": [
    "!git commit -m' SI controls ' ../notebooks/SI_controls* ../scripts/experiment_SI_controls*"
   ]
  }
 ],
 "metadata": {
  "kernelspec": {
   "display_name": "Python 3",
   "language": "python",
   "name": "python3"
  },
  "language_info": {
   "codemirror_mode": {
    "name": "ipython",
    "version": 3
   },
   "file_extension": ".py",
   "mimetype": "text/x-python",
   "name": "python",
   "nbconvert_exporter": "python",
   "pygments_lexer": "ipython3",
   "version": "3.6.0"
  }
 },
 "nbformat": 4,
 "nbformat_minor": 0
}
