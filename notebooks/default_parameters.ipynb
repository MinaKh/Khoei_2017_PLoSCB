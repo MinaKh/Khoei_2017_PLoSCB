{
 "cells": [
  {
   "cell_type": "markdown",
   "metadata": {
    "collapsed": true,
    "deletable": true,
    "editable": true
   },
   "source": [
    "## setting the default parameters for the FLE"
   ]
  },
  {
   "cell_type": "code",
   "execution_count": 1,
   "metadata": {
    "collapsed": false,
    "deletable": true,
    "editable": true
   },
   "outputs": [
    {
     "name": "stdout",
     "output_type": "stream",
     "text": [
      "Writing ../scripts/default_param.py\n"
     ]
    }
   ],
   "source": [
    "%%writefile ../scripts/default_param.py\n",
    "# -*- coding: utf-8 -*-\n",
    "\"\"\"\n",
    "Default parameters for all experiments\n",
    "\n",
    "\"\"\"\n",
    "from __future__ import division, print_function\n",
    "import numpy as np\n",
    "\n",
    "import MotionParticlesFLE as mp\n",
    "N_X, N_Y, N_frame = mp.N_X, mp.N_Y, mp.N_frame\n",
    "X_0 = -1.\n",
    "V_X = 1.\n",
    "\n",
    "PBP_D_x = mp.D_x*2.\n",
    "PBP_D_V = np.inf #mp.D_V*1000.\n",
    "PBP_prior = mp.v_prior #/1.e6\n",
    "\n",
    "dot_size = 0.05\n",
    "dot_start = .2\n",
    "dot_stop = .8\n",
    "\n",
    "im_noise_dot = .05\n",
    "im_noise_flash = .05\n",
    "#print('Image Noise=', noise)\n",
    "latencies = [0, 10] # in # of frames\n",
    "latency = latencies[0]\n",
    "latency = latencies[-1]\n",
    "flash_duration = 0.05 # in seconds\n",
    "\n",
    "stim_labels = [\n",
    "            'dot',\n",
    "            'flash',\n",
    "               ]\n",
    "stim_args = [\n",
    "            {'X_0':X_0, 'Y_0':0, 'V_X':V_X, 'im_noise':im_noise_dot, 'hard': True, 'pink_noise': True, 'dot_size':dot_size,\n",
    "                             'flash_start':dot_start, 'flash_duration':dot_stop-dot_start},\n",
    "            {'X_0':0., 'Y_0':0., 'V_X':0., 'im_noise':im_noise_flash, 'hard': True, 'pink_noise': True, 'dot_size':dot_size,\n",
    "                             'flash_duration':flash_duration, 'flash_start':0.5-flash_duration/2},\n",
    "            ]\n",
    "\n",
    "# for figures\n",
    "fontsize = 12\n",
    "FORMATS = ['.png']\n",
    "FORMATS = ['.pdf', '.eps', '.png', '.tiff']\n",
    "FORMATS = ['.pdf']\n",
    "FORMATS = ['.pdf', '.eps', '.svg']\n",
    "FORMATS = ['.png', '.pdf']\n",
    "fig_width_pt = 318.670  # Get this from LaTeX using \\showthe\\columnwidth\n",
    "fig_width_pt = 450  # Get this from LaTeX using \\showthe\\columnwidth\n",
    "#fig_width_pt = 1024 #221     # Get this from LaTeX using \\showthe\\columnwidth / x264 asks for a multiple of 2\n",
    "dpi = 72.27 # dpi settings to get one point per pixel\n",
    "inches_per_pt = 1.0/dpi            # Convert pt to inches\n",
    "inches_per_cm = 1./2.54\n",
    "fig_width = fig_width_pt*inches_per_pt  # width in inches\n",
    "grid_fig_width = 2*fig_width\n",
    "phi = (np.sqrt(5) + 1. ) /2\n",
    "#legend.fontsize = 8\n",
    "#fig_width = 9\n",
    "fig_height = fig_width/phi\n",
    "figsize = (fig_width, fig_height)\n",
    "\n",
    "\n",
    "def adjust_spines(ax, spines):\n",
    "    for loc, spine in ax.spines.items():\n",
    "        if loc in spines:\n",
    "            spine.set_position(('outward', 10))  # outward by 10 points\n",
    "            spine.set_smart_bounds(True)\n",
    "        else:\n",
    "            spine.set_color('none')  # don't draw spine\n",
    "\n",
    "    # turn off ticks where there is no spine\n",
    "    if 'left' in spines:\n",
    "        ax.yaxis.set_ticks_position('left')\n",
    "    else:\n",
    "        # no yaxis ticks\n",
    "        ax.yaxis.set_ticks([])\n",
    "\n",
    "    if 'bottom' in spines:\n",
    "        ax.xaxis.set_ticks_position('bottom')\n",
    "    else:\n",
    "        # no xaxis ticks\n",
    "        ax.xaxis.set_ticks([])\n",
    "\n",
    "        \n",
    "import matplotlib\n",
    "pylab_defaults = { \n",
    "    'font.size': 10,\n",
    "    'xtick.labelsize':'medium',\n",
    "    'ytick.labelsize':'medium',\n",
    "    'text.usetex': False,\n",
    "#    'font.family' : 'sans-serif',\n",
    "#    'font.sans-serif' : ['Helvetica'],\n",
    "    }\n",
    "    \n",
    "#matplotlib.rcParams.update({'font.size': 18, 'font.family': 'STIXGeneral', 'mathtext.fontset': 'stix'})\n",
    "matplotlib.rcParams.update(pylab_defaults)\n",
    "#matplotlib.rcParams.update({'text.usetex': True})\n",
    "\n",
    "import matplotlib.cm as cm\n",
    "\n",
    "# quantization \n",
    "N_quant_X = 50\n",
    "N_quant_Y = 50\n",
    "N_frame_av = 2 # on how many frames (before AND after) we average\n",
    "do_video = False\n",
    "do_figure = True\n",
    "\n",
    "\n",
    "import matplotlib.pyplot as plt\n",
    "\n",
    "import numpy as np\n",
    "np.set_printoptions(precision=4)#, suppress=True)\n",
    "\n",
    "import os\n"
   ]
  },
  {
   "cell_type": "markdown",
   "metadata": {
    "deletable": true,
    "editable": true
   },
   "source": [
    "## version control"
   ]
  },
  {
   "cell_type": "code",
   "execution_count": 2,
   "metadata": {
    "collapsed": false,
    "deletable": true,
    "editable": true
   },
   "outputs": [
    {
     "name": "stdout",
     "output_type": "stream",
     "text": [
      "On branch master\r\n",
      "Your branch is ahead of 'origin/master' by 1 commit.\r\n",
      "  (use \"git push\" to publish your local commits)\r\n",
      "Changes not staged for commit:\r\n",
      "  (use \"git add <file>...\" to update what will be committed)\r\n",
      "  (use \"git checkout -- <file>...\" to discard changes in working directory)\r\n",
      "\r\n",
      "\t\u001b[32mmodified:   ../figures/FLE-A.pdf\u001b[m\r\n",
      "\t\u001b[32mmodified:   ../figures/FLE-B.pdf\u001b[m\r\n",
      "\t\u001b[32mmodified:   control_jobs.ipynb\u001b[m\r\n",
      "\t\u001b[32mmodified:   figure_2_DiagonalMarkov.ipynb\u001b[m\r\n",
      "\t\u001b[32mmodified:   figure_3_FLE.ipynb\u001b[m\r\n",
      "\t\u001b[32mmodified:   figure_4_FLE_limit_cycles.ipynb\u001b[m\r\n",
      "\r\n",
      "no changes added to commit (use \"git add\" and/or \"git commit -a\")\r\n"
     ]
    }
   ],
   "source": [
    "#!git rm ../figures/FLE-cartoon.svg\n",
    "!git status"
   ]
  },
  {
   "cell_type": "code",
   "execution_count": 3,
   "metadata": {
    "collapsed": false,
    "deletable": true,
    "editable": true
   },
   "outputs": [
    {
     "name": "stdout",
     "output_type": "stream",
     "text": [
      "On branch master\r\n",
      "Your branch is ahead of 'origin/master' by 1 commit.\r\n",
      "  (use \"git push\" to publish your local commits)\r\n",
      "Changes not staged for commit:\r\n",
      "\t\u001b[32mmodified:   ../figures/FLE-A.pdf\u001b[m\r\n",
      "\t\u001b[32mmodified:   ../figures/FLE-B.pdf\u001b[m\r\n",
      "\t\u001b[32mmodified:   control_jobs.ipynb\u001b[m\r\n",
      "\t\u001b[32mmodified:   figure_2_DiagonalMarkov.ipynb\u001b[m\r\n",
      "\t\u001b[32mmodified:   figure_3_FLE.ipynb\u001b[m\r\n",
      "\t\u001b[32mmodified:   figure_4_FLE_limit_cycles.ipynb\u001b[m\r\n",
      "\r\n",
      "no changes added to commit\r\n"
     ]
    }
   ],
   "source": [
    "!git commit -m' notebook for default parameters'  ../notebooks/default*"
   ]
  }
 ],
 "metadata": {
  "kernelspec": {
   "display_name": "Python 3",
   "language": "python",
   "name": "python3"
  },
  "language_info": {
   "codemirror_mode": {
    "name": "ipython",
    "version": 3
   },
   "file_extension": ".py",
   "mimetype": "text/x-python",
   "name": "python",
   "nbconvert_exporter": "python",
   "pygments_lexer": "ipython3",
   "version": "3.6.0"
  },
  "widgets": {
   "state": {
    "48940780b1ae4706b3c985acf086a711": {
     "views": [
      {
       "cell_index": 2
      }
     ]
    }
   },
   "version": "1.2.0"
  }
 },
 "nbformat": 4,
 "nbformat_minor": 0
}
