{
 "cells": [
  {
   "cell_type": "code",
   "execution_count": 1,
   "metadata": {
    "collapsed": false,
    "deletable": true,
    "editable": true
   },
   "outputs": [
    {
     "name": "stderr",
     "output_type": "stream",
     "text": [
      "/usr/local/lib/python3.6/site-packages/matplotlib/__init__.py:1401: UserWarning:  This call to matplotlib.use() has no effect\n",
      "because the backend has already been chosen;\n",
      "matplotlib.use() must be called *before* pylab, matplotlib.pyplot,\n",
      "or matplotlib.backends is imported for the first time.\n",
      "\n",
      "  warnings.warn(_use_error_msg)\n"
     ]
    }
   ],
   "source": [
    "%load_ext autoreload\n",
    "%autoreload 2\n",
    "%matplotlib inline\n",
    "\n",
    "%cd -q ../scripts/\n",
    "from default_param import *"
   ]
  },
  {
   "cell_type": "markdown",
   "metadata": {
    "collapsed": true,
    "deletable": true,
    "editable": true,
    "nbpresent": {
     "id": "067062a1-2e09-4c24-9b6e-a8a4861de29d"
    }
   },
   "source": [
    "#  FLE\n",
    "\n",
    "\n",
    "In this script the CONDENSATION is done for rightward and leftward motion of a dot stimulus, at different levels of noise. also for flashing stimuli needed for simulation of flash initiated and flash_terminated FLEs. \n",
    "The aim is to generate generate (Berry et al 99)'s figure 2: shifting RF position in the direction of motion.\n",
    "\n"
   ]
  },
  {
   "cell_type": "code",
   "execution_count": 2,
   "metadata": {
    "collapsed": false,
    "deletable": true,
    "editable": true,
    "nbpresent": {
     "id": "3ee146f7-b7f7-42b7-b42f-5468fef8942c"
    }
   },
   "outputs": [
    {
     "name": "stdout",
     "output_type": "stream",
     "text": [
      "Sequence results/FLE-dot-anim.mp4 already exists (remove to recompute)\n",
      "Studying CONDENSATION by changing image along variable(s) : {'latency': [0, 10]}\n",
      "Studying CONDENSATION by changing image along variable(s) : {'latency': [0, 10]}\n",
      "Sequence results/FLE-flash-anim.mp4 already exists (remove to recompute)\n",
      "Studying CONDENSATION by changing image along variable(s) : {'latency': [0, 10]}\n",
      "Studying CONDENSATION by changing image along variable(s) : {'latency': [0, 10]}\n"
     ]
    }
   ],
   "source": [
    "%run experiment_fle.py"
   ]
  },
  {
   "cell_type": "markdown",
   "metadata": {
    "deletable": true,
    "editable": true,
    "nbpresent": {
     "id": "d5018dc3-439b-4cf2-bbfb-4329481f7ab6"
    }
   },
   "source": [
    "## movies\n",
    "\n",
    "first each stimulus in isolation, then a merge of both stimuli with a slight gap."
   ]
  },
  {
   "cell_type": "code",
   "execution_count": null,
   "metadata": {
    "collapsed": false,
    "deletable": true,
    "editable": true,
    "nbpresent": {
     "id": "b80102f1-a500-47cc-923c-0a710f14fa3c"
    }
   },
   "outputs": [
    {
     "name": "stdout",
     "output_type": "stream",
     "text": [
      "Sequence ../figures/PBP_dot_spatial_readout.mp4 already exists (remove to recompute)\n",
      "Sequence ../figures/PBP_flash_spatial_readout.mp4 already exists (remove to recompute)\n",
      "Sequence ../figures/MBP_dot_spatial_readout.mp4 already exists (remove to recompute)\n",
      "Sequence ../figures/MBP_flash_spatial_readout.mp4 already exists (remove to recompute)\n"
     ]
    }
   ],
   "source": [
    "latency = 10\n",
    "\n",
    "for method in ['PBP', 'MBP']:\n",
    "    for i, (stimulus_tag, cmap, color) in enumerate(zip(stim_labels, [plt.cm.Greens, plt.cm.Reds], ['g', 'r'])):\n",
    "        figname = os.path.join('../figures/', method + '_' + stimulus_tag)\n",
    "        particles = image[stimulus_tag]['result'][method][latency].copy() \n",
    "        mp.anim_save(z=None, filename=figname + '_spatial_readout', particles=particles, N_quant_X=N_quant_Y, N_quant_Y=N_quant_Y, fps=10)"
   ]
  },
  {
   "cell_type": "raw",
   "metadata": {
    "collapsed": false,
    "deletable": true,
    "editable": true
   },
   "source": [
    "!rm ../figures/PBP_spatial_readout.mp4 ../figures/MBP_spatial_readout.mp4"
   ]
  },
  {
   "cell_type": "raw",
   "metadata": {
    "collapsed": false,
    "deletable": true,
    "editable": true
   },
   "source": [
    "!git add ../figures/PBP_spatial_readout.mp4 ../figures/MBP_spatial_readout.mp4"
   ]
  },
  {
   "cell_type": "code",
   "execution_count": null,
   "metadata": {
    "collapsed": false,
    "deletable": true,
    "editable": true
   },
   "outputs": [
    {
     "name": "stdout",
     "output_type": "stream",
     "text": [
      "Sequence ../figures/PBP_spatial_readout.mp4 already exists (remove to recompute)\n",
      "Sequence ../figures/MBP_spatial_readout.mp4 already exists (remove to recompute)\n"
     ]
    }
   ],
   "source": [
    "for method in ['PBP', 'MBP']:\n",
    "    figname = os.path.join('../figures/', method)\n",
    "    particles_full = np.zeros((5, 0, mp.N_frame))\n",
    "    for i, (stimulus_tag, cmap, color) in enumerate(zip(stim_labels, [plt.cm.Greens, plt.cm.Reds], ['g', 'r'])):\n",
    "        particles = image[stimulus_tag]['result'][method][latency].copy()\n",
    "        if stimulus_tag == 'flash':\n",
    "            particles[1, ...] = mp.torus(particles[1, ...] - .1, mp.width)\n",
    "        else:\n",
    "            particles[1, ...] = mp.torus(particles[1, ...] + .1, mp.width)\n",
    "        particles_full = np.concatenate((particles_full, particles), axis=1)\n",
    "    particles_full = np.roll(particles_full, -latency, axis=-1)\n",
    "    mp.anim_save(z=None, filename=figname + '_spatial_readout', particles=particles_full, N_quant_X=N_quant_Y, N_quant_Y=N_quant_Y, hue=False, fps=3)\n"
   ]
  },
  {
   "cell_type": "code",
   "execution_count": null,
   "metadata": {
    "collapsed": false,
    "deletable": true,
    "editable": true
   },
   "outputs": [
    {
     "name": "stdout",
     "output_type": "stream",
     "text": [
      "ffprobe version 3.2.4 Copyright (c) 2007-2017 the FFmpeg developers\r\n",
      "  built with Apple LLVM version 8.0.0 (clang-800.0.42.1)\r\n",
      "  configuration: --prefix=/usr/local/Cellar/ffmpeg/3.2.4 --enable-shared --enable-pthreads --enable-gpl --enable-version3 --enable-hardcoded-tables --enable-avresample --cc=clang --host-cflags= --host-ldflags= --enable-libmp3lame --enable-libvorbis --enable-libvpx --enable-libx264 --enable-libxvid --enable-opencl --disable-lzma --enable-vda\r\n",
      "  libavutil      55. 34.101 / 55. 34.101\r\n",
      "  libavcodec     57. 64.101 / 57. 64.101\r\n",
      "  libavformat    57. 56.101 / 57. 56.101\r\n",
      "  libavdevice    57.  1.100 / 57.  1.100\r\n",
      "  libavfilter     6. 65.100 /  6. 65.100\r\n",
      "  libavresample   3.  1.  0 /  3.  1.  0\r\n",
      "  libswscale      4.  2.100 /  4.  2.100\r\n",
      "  libswresample   2.  3.100 /  2.  3.100\r\n",
      "  libpostproc    54.  1.100 / 54.  1.100\r\n"
     ]
    }
   ],
   "source": [
    "!ffprobe -i ../figures/PBP_spatial_readout.mp4\n",
    "!ffprobe -i ../figures/MBP_spatial_readout.mp4"
   ]
  },
  {
   "cell_type": "markdown",
   "metadata": {
    "deletable": true,
    "editable": true,
    "nbpresent": {
     "id": "d5018dc3-439b-4cf2-bbfb-4329481f7ab6"
    }
   },
   "source": [
    "## stream plot\n",
    "\n",
    "first each stimulus in isolation, then a merge of both stimuli with a slight gap."
   ]
  },
  {
   "cell_type": "raw",
   "metadata": {
    "collapsed": false,
    "deletable": true,
    "editable": true,
    "nbpresent": {
     "id": "b80102f1-a500-47cc-923c-0a710f14fa3c"
    }
   },
   "source": [
    "latency = 10\n",
    "\n",
    "for method in ['PBP', 'MBP']:\n",
    "    for i, (stimulus_tag, cmap, color) in enumerate(zip(stim_labels, [plt.cm.Greens, plt.cm.Reds], ['g', 'r'])):\n",
    "        figname = os.path.join('../figures/', method + '_' + stimulus_tag)\n",
    "        particles = image[stimulus_tag]['result'][method][latency].copy() \n",
    "        mp.anim_save(z=None, filename=figname + '_spatial_readout', particles=particles, N_quant_X=N_quant_Y, N_quant_Y=N_quant_Y, fps=10)"
   ]
  },
  {
   "cell_type": "code",
   "execution_count": null,
   "metadata": {
    "collapsed": true,
    "deletable": true,
    "editable": true
   },
   "outputs": [],
   "source": [
    "latency = 10\n",
    "time_ind_max_flash = 60"
   ]
  },
  {
   "cell_type": "raw",
   "metadata": {
    "collapsed": false,
    "deletable": true,
    "editable": true
   },
   "source": [
    "for method in ['PBP', 'MBP']:\n",
    "    figname = os.path.join('../figures/', method)\n",
    "    particles_full = np.zeros((5, 0, mp.N_frame))\n",
    "    for i, (stimulus_tag, cmap, color) in enumerate(zip(stim_labels, [plt.cm.Greens, plt.cm.Reds], ['g', 'r'])):\n",
    "        particles = image[stimulus_tag]['result'][method][latency].copy()\n",
    "        if stimulus_tag == 'flash':\n",
    "            particles[1, ...] = mp.torus(particles[1, ...] - .1, mp.width)\n",
    "        else:\n",
    "            particles[1, ...] = mp.torus(particles[1, ...] + .1, mp.width)\n",
    "        particles_full = np.concatenate((particles_full, particles), axis=1)\n",
    "    particles_full = np.roll(particles_full, -latency, axis=-1)\n",
    "    mp.spatial_readout(filename=figname + '_spatial_readout', particles=particles_full, N_quant_X=N_quant_Y, N_quant_Y=N_quant_Y, hue=False, fps=3)"
   ]
  },
  {
   "cell_type": "code",
   "execution_count": null,
   "metadata": {
    "collapsed": false,
    "deletable": true,
    "editable": true,
    "scrolled": false
   },
   "outputs": [],
   "source": [
    "fig, ax = plt.subplots(1, 1, figsize=(fig_width, fig_width))\n",
    "v_hist = np.zeros((N_quant_X, N_quant_Y, 3))\n",
    "\n",
    "spatial_offset = 0.4\n",
    "\n",
    "#time_ind_max_flash = 60\n",
    "particles_full = np.zeros((5, 0, mp.N_frame))\n",
    "for i, (stimulus_tag, cmap, color) in enumerate(zip(stim_labels, [plt.cm.Greens, plt.cm.Reds], ['g', 'r'])):\n",
    "    particles = image[stimulus_tag]['result']['MBP'][latency].copy() \n",
    "    #print(i_frame)\n",
    "    if stimulus_tag == 'flash':\n",
    "        particles[1, ...] = mp.torus(particles[1, ...] + spatial_offset/2, mp.width)\n",
    "    else:\n",
    "        particles[1, ...] = mp.torus(particles[1, ...] - spatial_offset/2, mp.width)\n",
    "    v_hist[:, :, i], x_edges, y_edges = mp.spatial_readout(particles[:, :, time_ind_max_flash], \n",
    "                                                        N_quant_X=N_quant_Y, N_quant_Y=N_quant_Y, display=False)\n",
    "    particles_full = np.concatenate((particles_full, particles), axis=1)\n",
    "particles_full = np.roll(particles_full, -latency, axis=-1)\n",
    "\n",
    "\n",
    "\n",
    "#v_hist_max[:, :, i] -= v_hist_max[:, :, i].min() # HACK\n",
    "#a.pcolor(x_edges, y_edges, v_hist_max[:, :, 0], vmin=0., vmax=v_hist_max[:, :, 0].max(), cmap=plt.cm.winter, edgecolor='k', alpha=.3)\n",
    "#c= axA.pcolormesh(x_edges, y_edges, v_hist)#,         vmin=v_hist.min(), vmax=v_hist.max())#, edgecolor=(1, 1, 1, 1.), alpha=.8)#*i)#(1-i))\n",
    "#c._is_stroked = False\n",
    "v_hist /= v_hist.max()\n",
    "c= ax.imshow(np.swapaxes(v_hist, 0, 1))#, vmin=v_hist.min(), vmax=v_hist.max(), edgecolor=(1, 1, 1, 1.), alpha=.8)#*i)#(1-i))\n",
    "\n",
    "plt.tight_layout()\n",
    " \n",
    "#for ext in FORMATS: fig.savefig(os.path.join('../figures/', 'FLE-A' + ext))"
   ]
  },
  {
   "cell_type": "code",
   "execution_count": null,
   "metadata": {
    "collapsed": false,
    "deletable": true,
    "editable": true,
    "scrolled": true
   },
   "outputs": [],
   "source": [
    "v_hist.max(), v_hist.min()"
   ]
  },
  {
   "cell_type": "raw",
   "metadata": {
    "deletable": true,
    "editable": true
   },
   "source": [
    "help(np.swapaxes)"
   ]
  },
  {
   "cell_type": "code",
   "execution_count": null,
   "metadata": {
    "collapsed": true,
    "deletable": true,
    "editable": true
   },
   "outputs": [],
   "source": [
    "particles = image['dot']['result']['MBP'][latency].copy() \n",
    "\n",
    "particles[1, ...] = mp.torus(particles[1, ...] - spatial_offset/2, mp.width)\n",
    "\n",
    "particles = np.roll(particles, -latency, axis=-1)\n",
    "\n"
   ]
  },
  {
   "cell_type": "code",
   "execution_count": null,
   "metadata": {
    "collapsed": false,
    "deletable": true,
    "editable": true
   },
   "outputs": [],
   "source": [
    "fig, ax, q = mp.show_particles(image=v_hist, particles=particles_full[:, :, 50], vmin=0, line_width=1., scale=.03, N_show=64, color_hue=False, inset=False)"
   ]
  },
  {
   "cell_type": "code",
   "execution_count": null,
   "metadata": {
    "collapsed": false,
    "deletable": true,
    "editable": true
   },
   "outputs": [],
   "source": [
    "color, start, stop = [], 22, 47\n",
    "for gray in np.linspace(1, 0, stop-start):\n",
    "    color.append([1, gray, gray, 0.3])\n",
    "\n",
    "fig, ax, q = mp.show_particles(image=v_hist/v_hist.max(), particles=particles[:, :, start:stop], vmin=-1, normalize= False, line_width=.15, scale=.04, \n",
    "                               N_show=64, color_hue=False, color=color)\n",
    "for ext in FORMATS: fig.savefig(os.path.join('../figures/', 'coverart_raw' + ext))"
   ]
  },
  {
   "cell_type": "markdown",
   "metadata": {
    "deletable": true,
    "editable": true,
    "nbpresent": {
     "id": "96ddf25c-d391-4366-8e97-f34ac3bc81e7"
    }
   },
   "source": [
    "## post-prod"
   ]
  },
  {
   "cell_type": "code",
   "execution_count": null,
   "metadata": {
    "collapsed": false,
    "deletable": true,
    "editable": true,
    "nbpresent": {
     "id": "fe982aff-d4ca-4ff2-9ece-43bd542814e0"
    }
   },
   "outputs": [],
   "source": [
    "import tikzmagic"
   ]
  },
  {
   "cell_type": "code",
   "execution_count": null,
   "metadata": {
    "collapsed": false,
    "deletable": true,
    "editable": true,
    "nbpresent": {
     "id": "1ac243ec-c169-4fd8-8f6f-4d352dbf39f2"
    }
   },
   "outputs": [],
   "source": [
    "!ls -l ../figures/coverart*"
   ]
  },
  {
   "cell_type": "code",
   "execution_count": null,
   "metadata": {
    "collapsed": false,
    "deletable": true,
    "editable": true,
    "nbpresent": {
     "id": "008dc0e6-d37a-4693-a473-c008a7edec21"
    }
   },
   "outputs": [],
   "source": [
    "%%tikz -e ../figures/coverart.pdf\n",
    "\n",
    "\\clip (.25\\textwidth, 0.3\\textwidth) rectangle (.7\\textwidth, .75\\textwidth);\n",
    "\\draw [anchor=south west] (0, 0) node {\\includegraphics[width=\\textwidth]{../figures/coverart_raw.pdf}};\n",
    "\n"
   ]
  },
  {
   "cell_type": "code",
   "execution_count": null,
   "metadata": {
    "collapsed": false,
    "deletable": true,
    "editable": true,
    "nbpresent": {
     "id": "008dc0e6-d37a-4693-a473-c008a7edec21"
    }
   },
   "outputs": [],
   "source": [
    "%%tikz\n",
    "\n",
    "\\clip (0.2,-0.1) rectangle (1.2,1.2);\n",
    "\\draw (0,0) -- (1,0) -- (1,1) -- cycle;\n",
    "\\draw (2,0) -- (3,0) -- (3,1) -- cycle;\n",
    "\n",
    "\n"
   ]
  },
  {
   "cell_type": "code",
   "execution_count": null,
   "metadata": {
    "collapsed": false,
    "deletable": true,
    "editable": true,
    "nbpresent": {
     "id": "8b7b6f65-b3b8-4324-9eb9-1dfb2a1cbad8"
    }
   },
   "outputs": [],
   "source": [
    "!convert  -density 900 ../figures/coverart.pdf ../figures/coverart.jpg\n",
    "!convert  -density 900 ../figures/coverart.pdf ../figures/coverart.png\n",
    "!convert  -density 600 -resize 5400  -units pixelsperinch -flatten  -compress lzw  -depth 8 ../figures/coverart.pdf ../figures/coverart.tiff\n",
    "\n",
    "from IPython.display import SVG, Image\n",
    "Image('../figures/coverart.jpg')"
   ]
  },
  {
   "cell_type": "code",
   "execution_count": null,
   "metadata": {
    "collapsed": false,
    "deletable": true,
    "editable": true,
    "nbpresent": {
     "id": "147fc209-5ae3-47b2-aff7-b45afc3278bb"
    }
   },
   "outputs": [],
   "source": [
    "!echo \"width=\" ; convert ../figures/coverart.tiff -format \"%[fx:w]\" info:\n",
    "!echo \", \\nheight=\" ; convert ../figures/coverart.tiff -format \"%[fx:h]\" info:\n",
    "!echo \", \\nunit=\" ; convert ../figures/coverart.tiff -format \"%U\" info:"
   ]
  },
  {
   "cell_type": "code",
   "execution_count": null,
   "metadata": {
    "collapsed": false,
    "deletable": true,
    "editable": true,
    "nbpresent": {
     "id": "f9dbfc18-0abd-4b91-9097-28df2faafeec"
    }
   },
   "outputs": [],
   "source": [
    "!identify ../figures/coverart.tiff "
   ]
  },
  {
   "cell_type": "markdown",
   "metadata": {
    "deletable": true,
    "editable": true,
    "nbpresent": {
     "id": "87d5fd7c-bdb0-41da-b878-88ffb5351b13"
    }
   },
   "source": [
    "## version control"
   ]
  },
  {
   "cell_type": "code",
   "execution_count": null,
   "metadata": {
    "collapsed": false,
    "deletable": true,
    "editable": true,
    "nbpresent": {
     "id": "6ee6fed6-8525-4654-a451-3079469e9d7e"
    }
   },
   "outputs": [],
   "source": [
    "!git pull\n",
    "!git add ../figures/MBP_spatial_readout.mp4\n",
    "#!git add ../figures/coverart* ../notebooks/figure_coverart.ipynb\n",
    "!git status"
   ]
  },
  {
   "cell_type": "code",
   "execution_count": null,
   "metadata": {
    "collapsed": false,
    "deletable": true,
    "editable": true,
    "nbpresent": {
     "id": "e3f66418-6100-48ee-b937-3317da989d3a"
    }
   },
   "outputs": [],
   "source": [
    "!git commit -m' figure coverart : adding files '  ../khoei17fle.tex ../notebooks/figure_coverart.ipynb ../figures/coverart* \n",
    "!#git push"
   ]
  }
 ],
 "metadata": {
  "anaconda-cloud": {},
  "kernelspec": {
   "display_name": "Python 3",
   "language": "python",
   "name": "python3"
  },
  "language_info": {
   "codemirror_mode": {
    "name": "ipython",
    "version": 3
   },
   "file_extension": ".py",
   "mimetype": "text/x-python",
   "name": "python",
   "nbconvert_exporter": "python",
   "pygments_lexer": "ipython3",
   "version": "3.6.0"
  },
  "nbpresent": {
   "slides": {},
   "themes": {
    "default": "04251847-f98a-4259-9427-d90d476e1563",
    "theme": {
     "04251847-f98a-4259-9427-d90d476e1563": {
      "id": "04251847-f98a-4259-9427-d90d476e1563",
      "palette": {
       "19cc588f-0593-49c9-9f4b-e4d7cc113b1c": {
        "id": "19cc588f-0593-49c9-9f4b-e4d7cc113b1c",
        "rgb": [
         252,
         252,
         252
        ]
       },
       "31af15d2-7e15-44c5-ab5e-e04b16a89eff": {
        "id": "31af15d2-7e15-44c5-ab5e-e04b16a89eff",
        "rgb": [
         68,
         68,
         68
        ]
       },
       "50f92c45-a630-455b-aec3-788680ec7410": {
        "id": "50f92c45-a630-455b-aec3-788680ec7410",
        "rgb": [
         155,
         177,
         192
        ]
       },
       "c5cc3653-2ee1-402a-aba2-7caae1da4f6c": {
        "id": "c5cc3653-2ee1-402a-aba2-7caae1da4f6c",
        "rgb": [
         43,
         126,
         184
        ]
       },
       "efa7f048-9acb-414c-8b04-a26811511a21": {
        "id": "efa7f048-9acb-414c-8b04-a26811511a21",
        "rgb": [
         25.118061674008803,
         73.60176211453744,
         107.4819383259912
        ]
       }
      },
      "rules": {
       "blockquote": {
        "color": "50f92c45-a630-455b-aec3-788680ec7410"
       },
       "code": {
        "font-family": "Anonymous Pro"
       },
       "h1": {
        "color": "c5cc3653-2ee1-402a-aba2-7caae1da4f6c",
        "font-family": "Lato",
        "font-size": 8
       },
       "h2": {
        "color": "c5cc3653-2ee1-402a-aba2-7caae1da4f6c",
        "font-family": "Lato",
        "font-size": 6
       },
       "h3": {
        "color": "50f92c45-a630-455b-aec3-788680ec7410",
        "font-family": "Lato",
        "font-size": 5.5
       },
       "h4": {
        "color": "c5cc3653-2ee1-402a-aba2-7caae1da4f6c",
        "font-family": "Lato",
        "font-size": 5
       },
       "h5": {
        "font-family": "Lato"
       },
       "h6": {
        "font-family": "Lato"
       },
       "h7": {
        "font-family": "Lato"
       },
       "pre": {
        "font-family": "Anonymous Pro",
        "font-size": 4
       }
      },
      "text-base": {
       "font-family": "Merriweather",
       "font-size": 4
      }
     }
    }
   }
  }
 },
 "nbformat": 4,
 "nbformat_minor": 0
}
