{
 "cells": [
  {
   "cell_type": "code",
   "execution_count": 1,
   "metadata": {
    "collapsed": true,
    "deletable": true,
    "editable": true
   },
   "outputs": [],
   "source": [
    "%load_ext autoreload\n",
    "%autoreload 2\n",
    "\n",
    "from __future__ import division, print_function\n",
    "%matplotlib inline\n",
    "\n",
    "import matplotlib.pyplot as plt\n",
    "\n",
    "import numpy as np\n",
    "np.set_printoptions(precision=4)#, suppress=True)\n",
    "%cd -q ../scripts/"
   ]
  },
  {
   "cell_type": "markdown",
   "metadata": {
    "deletable": true,
    "editable": true
   },
   "source": [
    "# controlling jobs locally\n",
    "\n",
    "This is a set of convenient commands used to control simulations locally.\n"
   ]
  },
  {
   "cell_type": "markdown",
   "metadata": {
    "deletable": true,
    "editable": true
   },
   "source": [
    "## 🏄  running scripts 🏄"
   ]
  },
  {
   "cell_type": "code",
   "execution_count": 2,
   "metadata": {
    "collapsed": false,
    "deletable": true,
    "editable": true
   },
   "outputs": [
    {
     "name": "stdout",
     "output_type": "stream",
     "text": [
      "\u001b]0;IPython: Khoei_2017_PLoSCB/scripts\u0007Sequence results/FLE-dot-anim.mp4 already exists (remove to recompute)\n",
      "Studying CONDENSATION by changing image along variable(s) : {'latency': [0, 10]}\n",
      "Studying CONDENSATION by changing image along variable(s) : {'latency': [0, 10]}\n",
      "Sequence results/FLE-flash-anim.mp4 already exists (remove to recompute)\n",
      "Studying CONDENSATION by changing image along variable(s) : {'latency': [0, 10]}\n",
      "Studying CONDENSATION by changing image along variable(s) : {'latency': [0, 10]}\n"
     ]
    }
   ],
   "source": [
    "!ipython3 experiment_fle.py"
   ]
  },
  {
   "cell_type": "code",
   "execution_count": 3,
   "metadata": {
    "collapsed": false,
    "deletable": true,
    "editable": true
   },
   "outputs": [
    {
     "name": "stdout",
     "output_type": "stream",
     "text": [
      "\u001b]0;IPython: Khoei_2017_PLoSCB/scripts\u0007Studying CONDENSATION by changing image along variable(s) : {'V_X': array([ 3.75 ,  3.475,  3.2  ,  2.925,  2.65 ,  2.375,  2.1  ,  1.825,\n",
      "        1.55 ,  1.275,  1.   ]), 'X_0': array([-3.75 , -3.475, -3.2  , -2.925, -2.65 , -2.375, -2.1  , -1.825,\n",
      "       -1.55 , -1.275, -1.   ]), 'flash_start': array([ 0.3933,  0.3849,  0.375 ,  0.3632,  0.3491,  0.3316,  0.3095,\n",
      "        0.2808,  0.2419,  0.1863,  0.1   ]), 'flash_duration': array([ 0.2133,  0.2302,  0.25  ,  0.2735,  0.3019,  0.3368,  0.381 ,\n",
      "        0.4384,  0.5161,  0.6275,  0.8   ])}\n",
      "data_cache/speed-dot-MBP-V_X_3_2000-X_0_-3_2000-flash_duration_0_2500-flash_start_0_3750-trial_7.npy  is locked !\n",
      "data_cache/speed-dot-MBP-V_X_2_1000-X_0_-2_1000-flash_duration_0_3810-flash_start_0_3095-trial_6.npy  is locked !\n",
      "data_cache/speed-dot-MBP-V_X_2_1000-X_0_-2_1000-flash_duration_0_3810-flash_start_0_3095-trial_3.npy  is locked !\n",
      "data_cache/speed-dot-MBP-V_X_2_1000-X_0_-2_1000-flash_duration_0_3810-flash_start_0_3095-trial_1.npy  is locked !\n",
      "figures could not be plotted cannot reshape array of size 1232384 into shape (5,4096,100)\n",
      "data_cache/speed-dot-MBP-V_X_3_4750-X_0_-3_4750-flash_duration_0_2302-flash_start_0_3849-trial_0.npy  is locked !\n",
      "data_cache/speed-dot-MBP-V_X_3_4750-X_0_-3_4750-flash_duration_0_2302-flash_start_0_3849-trial_8.npy  is locked !\n",
      "data_cache/speed-dot-MBP-V_X_3_4750-X_0_-3_4750-flash_duration_0_2302-flash_start_0_3849-trial_5.npy  is locked !\n",
      "data_cache/speed-dot-MBP-V_X_3_4750-X_0_-3_4750-flash_duration_0_2302-flash_start_0_3849-trial_0.npy  is locked !\n",
      "data_cache/speed-dot-MBP-V_X_3_4750-X_0_-3_4750-flash_duration_0_2302-flash_start_0_3849-trial_5.npy  is locked !\n",
      "no result yet for  data_cache/speed-dot-MBP-V_X_3_7500-X_0_-3_7500-flash_duration_0_2133-flash_start_0_3933.npy\n",
      "no result yet for  data_cache/speed-dot-MBP-V_X_3_4750-X_0_-3_4750-flash_duration_0_2302-flash_start_0_3849.npy\n",
      "no result yet for  data_cache/speed-dot-MBP-V_X_3_2000-X_0_-3_2000-flash_duration_0_2500-flash_start_0_3750.npy\n",
      "no result yet for  data_cache/speed-dot-MBP-V_X_2_9250-X_0_-2_9250-flash_duration_0_2735-flash_start_0_3632.npy\n",
      "no result yet for  data_cache/speed-dot-MBP-V_X_2_6500-X_0_-2_6500-flash_duration_0_3019-flash_start_0_3491.npy\n",
      "no result yet for  data_cache/speed-dot-MBP-V_X_2_3750-X_0_-2_3750-flash_duration_0_3368-flash_start_0_3316.npy\n",
      "no result yet for  data_cache/speed-dot-MBP-V_X_2_1000-X_0_-2_1000-flash_duration_0_3810-flash_start_0_3095.npy\n",
      "no result yet for  data_cache/speed-dot-MBP-V_X_1_8250-X_0_-1_8250-flash_duration_0_4384-flash_start_0_2808.npy\n",
      "no result yet for  data_cache/speed-dot-MBP-V_X_1_5500-X_0_-1_5500-flash_duration_0_5161-flash_start_0_2419.npy\n",
      "no result yet for  data_cache/speed-dot-MBP-V_X_1_2750-X_0_-1_2750-flash_duration_0_6275-flash_start_0_1863.npy\n",
      "no result yet for  data_cache/speed-dot-MBP-V_X_1_0000-X_0_-1_0000-flash_duration_0_8000-flash_start_0_1000.npy\n",
      "Studying CONDENSATION by changing image along variable(s) : {'V_X': array([ 3.75 ,  3.475,  3.2  ,  2.925,  2.65 ,  2.375,  2.1  ,  1.825,\n",
      "        1.55 ,  1.275,  1.   ]), 'X_0': array([-3.75 , -3.475, -3.2  , -2.925, -2.65 , -2.375, -2.1  , -1.825,\n",
      "       -1.55 , -1.275, -1.   ]), 'flash_start': array([ 0.3933,  0.3849,  0.375 ,  0.3632,  0.3491,  0.3316,  0.3095,\n",
      "        0.2808,  0.2419,  0.1863,  0.1   ]), 'flash_duration': array([ 0.2133,  0.2302,  0.25  ,  0.2735,  0.3019,  0.3368,  0.381 ,\n",
      "        0.4384,  0.5161,  0.6275,  0.8   ])}\n",
      "data_cache/speed-dot-PBP-V_X_3_2000-X_0_-3_2000-flash_duration_0_2500-flash_start_0_3750-trial_6.npy  is locked !\n",
      "figures could not be plotted cannot reshape array of size 1621504 into shape (5,4096,100)\n",
      "data_cache/speed-dot-PBP-V_X_1_0000-X_0_-1_0000-flash_duration_0_8000-flash_start_0_1000-trial_19.npy  is locked !\n",
      "data_cache/speed-dot-PBP-V_X_2_6500-X_0_-2_6500-flash_duration_0_3019-flash_start_0_3491-trial_4.npy  is locked !\n",
      "data_cache/speed-dot-PBP-V_X_2_9250-X_0_-2_9250-flash_duration_0_2735-flash_start_0_3632-trial_10.npy  is locked !\n",
      "data_cache/speed-dot-PBP-V_X_2_9250-X_0_-2_9250-flash_duration_0_2735-flash_start_0_3632-trial_8.npy  is locked !\n",
      "data_cache/speed-dot-PBP-V_X_2_9250-X_0_-2_9250-flash_duration_0_2735-flash_start_0_3632-trial_0.npy  is locked !\n",
      "data_cache/speed-dot-PBP-V_X_2_1000-X_0_-2_1000-flash_duration_0_3810-flash_start_0_3095-trial_16.npy  is locked !\n",
      "data_cache/speed-dot-PBP-V_X_2_1000-X_0_-2_1000-flash_duration_0_3810-flash_start_0_3095-trial_10.npy  is locked !\n"
     ]
    }
   ],
   "source": [
    "!ipython3 experiment_speed.py"
   ]
  },
  {
   "cell_type": "code",
   "execution_count": 4,
   "metadata": {
    "collapsed": false,
    "deletable": true,
    "editable": true
   },
   "outputs": [
    {
     "name": "stdout",
     "output_type": "stream",
     "text": [
      "\u001b]0;IPython: Khoei_2017_PLoSCB/scripts\u0007Studying CONDENSATION by changing image along variable(s) : {'im_contrast': array([ 0.2436,  0.3132,  0.4026,  0.5176,  0.6655,  0.8556,  1.1   ])}\n",
      ">>> Stimulus  dot MBP  at contrast=  0.2435854728\n",
      ">>> Stimulus  dot MBP  at contrast=  0.313166109656\n",
      ">>> Stimulus  dot MBP  at contrast=  0.402622582987\n",
      ">>> Stimulus  dot MBP  at contrast=  0.517632461921\n",
      ">>> Stimulus  dot MBP  at contrast=  0.665495123612\n",
      ">>> Stimulus  dot MBP  at contrast=  0.855595025683\n",
      ">>> Stimulus  dot MBP  at contrast=  1.09999731328\n",
      "Studying CONDENSATION by changing image along variable(s) : {'im_contrast': array([ 0.2436,  0.3132,  0.4026,  0.5176,  0.6655,  0.8556,  1.1   ])}\n",
      "data_cache/contrast-flash-MBP-im_contrast_0_2436-trial_0.npy  is locked !\n",
      "figures could not be plotted cannot reshape array of size 55296 into shape (5,4096,100)\n",
      "data_cache/contrast-flash-MBP-im_contrast_0_2436-trial_0.npy  is locked !\n",
      "\u001b[0;31m---------------------------------------------------------------------------\u001b[0m\n",
      "\u001b[0;31mFileNotFoundError\u001b[0m                         Traceback (most recent call last)\n",
      "\u001b[0;32m/Users/lolo/science/Khoei_2017_PLoSCB/scripts/experiment_contrast.py\u001b[0m in \u001b[0;36m<module>\u001b[0;34m()\u001b[0m\n",
      "\u001b[1;32m     36\u001b[0m                 \u001b[0;32mif\u001b[0m \u001b[0;32mTrue\u001b[0m\u001b[0;34m:\u001b[0m \u001b[0;31m#try:\u001b[0m\u001b[0;34m\u001b[0m\u001b[0m\n",
      "\u001b[1;32m     37\u001b[0m                     \u001b[0mmatname\u001b[0m \u001b[0;34m=\u001b[0m \u001b[0mmp\u001b[0m\u001b[0;34m.\u001b[0m\u001b[0mmake_figname\u001b[0m\u001b[0;34m(\u001b[0m\u001b[0mfigname\u001b[0m\u001b[0;34m,\u001b[0m \u001b[0mnew_kwargs\u001b[0m\u001b[0;34m)\u001b[0m\u001b[0;34m.\u001b[0m\u001b[0mreplace\u001b[0m\u001b[0;34m(\u001b[0m\u001b[0mmp\u001b[0m\u001b[0;34m.\u001b[0m\u001b[0mfigpath\u001b[0m\u001b[0;34m,\u001b[0m \u001b[0mmp\u001b[0m\u001b[0;34m.\u001b[0m\u001b[0mmatpath\u001b[0m\u001b[0;34m)\u001b[0m \u001b[0;34m+\u001b[0m \u001b[0;34m'.npy'\u001b[0m\u001b[0;34m\u001b[0m\u001b[0m\n",
      "\u001b[0;32m---> 38\u001b[0;31m                     \u001b[0mparticles\u001b[0m \u001b[0;34m=\u001b[0m \u001b[0mnp\u001b[0m\u001b[0;34m.\u001b[0m\u001b[0mload\u001b[0m\u001b[0;34m(\u001b[0m\u001b[0mmatname\u001b[0m\u001b[0;34m)\u001b[0m\u001b[0;34m\u001b[0m\u001b[0m\n",
      "\u001b[0m\u001b[1;32m     39\u001b[0m                     \u001b[0mimage_contrast\u001b[0m\u001b[0;34m[\u001b[0m\u001b[0mstimulus_tag\u001b[0m\u001b[0;34m]\u001b[0m\u001b[0;34m[\u001b[0m\u001b[0;34m'result'\u001b[0m\u001b[0;34m]\u001b[0m\u001b[0;34m[\u001b[0m\u001b[0mlabel\u001b[0m\u001b[0;34m]\u001b[0m\u001b[0;34m[\u001b[0m\u001b[0mnew_kwargs\u001b[0m\u001b[0;34m[\u001b[0m\u001b[0;34m'im_contrast'\u001b[0m\u001b[0;34m]\u001b[0m\u001b[0;34m]\u001b[0m \u001b[0;34m=\u001b[0m \u001b[0mparticles\u001b[0m\u001b[0;34m\u001b[0m\u001b[0m\n",
      "\u001b[1;32m     40\u001b[0m                     \u001b[0;31m#print(particles.shape)\u001b[0m\u001b[0;34m\u001b[0m\u001b[0;34m\u001b[0m\u001b[0m\n",
      "\n",
      "\u001b[0;32m/usr/local/lib/python3.6/site-packages/numpy/lib/npyio.py\u001b[0m in \u001b[0;36mload\u001b[0;34m(file, mmap_mode, allow_pickle, fix_imports, encoding)\u001b[0m\n",
      "\u001b[1;32m    368\u001b[0m     \u001b[0mown_fid\u001b[0m \u001b[0;34m=\u001b[0m \u001b[0;32mFalse\u001b[0m\u001b[0;34m\u001b[0m\u001b[0m\n",
      "\u001b[1;32m    369\u001b[0m     \u001b[0;32mif\u001b[0m \u001b[0misinstance\u001b[0m\u001b[0;34m(\u001b[0m\u001b[0mfile\u001b[0m\u001b[0;34m,\u001b[0m \u001b[0mbasestring\u001b[0m\u001b[0;34m)\u001b[0m\u001b[0;34m:\u001b[0m\u001b[0;34m\u001b[0m\u001b[0m\n",
      "\u001b[0;32m--> 370\u001b[0;31m         \u001b[0mfid\u001b[0m \u001b[0;34m=\u001b[0m \u001b[0mopen\u001b[0m\u001b[0;34m(\u001b[0m\u001b[0mfile\u001b[0m\u001b[0;34m,\u001b[0m \u001b[0;34m\"rb\"\u001b[0m\u001b[0;34m)\u001b[0m\u001b[0;34m\u001b[0m\u001b[0m\n",
      "\u001b[0m\u001b[1;32m    371\u001b[0m         \u001b[0mown_fid\u001b[0m \u001b[0;34m=\u001b[0m \u001b[0;32mTrue\u001b[0m\u001b[0;34m\u001b[0m\u001b[0m\n",
      "\u001b[1;32m    372\u001b[0m     \u001b[0;32melif\u001b[0m \u001b[0mis_pathlib_path\u001b[0m\u001b[0;34m(\u001b[0m\u001b[0mfile\u001b[0m\u001b[0;34m)\u001b[0m\u001b[0;34m:\u001b[0m\u001b[0;34m\u001b[0m\u001b[0m\n",
      "\n",
      "\u001b[0;31mFileNotFoundError\u001b[0m: [Errno 2] No such file or directory: 'data_cache/contrast-flash-MBP-im_contrast_0_2436.npy'\n"
     ]
    }
   ],
   "source": [
    "!ipython3 experiment_contrast.py"
   ]
  },
  {
   "cell_type": "code",
   "execution_count": null,
   "metadata": {
    "collapsed": false,
    "deletable": true,
    "editable": true
   },
   "outputs": [
    {
     "name": "stdout",
     "output_type": "stream",
     "text": [
      "\u001b]0;IPython: Khoei_2017_PLoSCB/scripts\u0007Sequence results/MotionReversal-anim-dot.mp4 already exists (remove to recompute)\n",
      "Studying CONDENSATION by changing image along variable(s) : {'latency': [0, 10]}\n",
      "Studying CONDENSATION by changing image along variable(s) : {'latency': [0, 10]}\n"
     ]
    }
   ],
   "source": [
    "!ipython3 experiment_MotionReversal.py"
   ]
  },
  {
   "cell_type": "code",
   "execution_count": null,
   "metadata": {
    "collapsed": false,
    "deletable": true,
    "editable": true,
    "scrolled": false
   },
   "outputs": [
    {
     "name": "stdout",
     "output_type": "stream",
     "text": [
      "\u001b]0;IPython: Khoei_2017_PLoSCB/scripts\u0007Studying CONDENSATION by changing image along variable(s) : {'D_x': array([  1.0000e-02,   1.0000e-01,   1.0000e+00,   1.0000e+01,   1.0000e+02])}\n",
      "Studying CONDENSATION by changing image along variable(s) : {'D_V': array([  1.0000e-02,   1.0000e-01,   1.0000e+00,   1.0000e+01,   1.0000e+02])}\n",
      "data_cache/SI-dot-MBP-D_V_100_0000-trial_7.npy  is locked !\n",
      "data_cache/SI-dot-MBP-D_V_100_0000-trial_17.npy  is locked !\n",
      "data_cache/SI-dot-MBP-D_V_100_0000-trial_16.npy  is locked !\n",
      "data_cache/SI-dot-MBP-D_V_0_0100.npy  is locked\n",
      "Studying CONDENSATION by changing image along variable(s) : {'sigma_motion': array([ 0.01  ,  0.0316,  0.1   ,  0.3162,  1.    ])}\n",
      "data_cache/SI-dot-MBP-sigma_motion_0_0100-trial_5.npy  is locked !\n",
      "data_cache/SI-dot-MBP-sigma_motion_0_0100-trial_14.npy  is locked !\n",
      "Studying CONDENSATION by changing image along variable(s) : {'K_motion': array([ 0.0001,  0.0003,  0.001 ,  0.0032,  0.01  ])}\n",
      "data_cache/SI-dot-MBP-K_motion_0_0003-trial_18.npy  is locked !\n",
      "data_cache/SI-dot-MBP-K_motion_0_0003-trial_7.npy  is locked !\n",
      "data_cache/SI-dot-MBP-K_motion_0_0100-trial_5.npy  is locked !\n",
      "data_cache/SI-dot-MBP-K_motion_0_0001.npy  is locked\n",
      "Studying CONDENSATION by changing image along variable(s) : {'dot_size': array([ 0.005 ,  0.0158,  0.05  ,  0.1581,  0.5   ])}\n",
      "/Users/lolo/science/Khoei_2017_PLoSCB/scripts/MotionParticles.py:1990: RuntimeWarning: invalid value encountered in true_divide\n",
      "  tube /= tube.max()\n",
      "/Users/lolo/science/Khoei_2017_PLoSCB/scripts/MotionParticles.py:427: RuntimeWarning: invalid value encountered in greater\n",
      "  winners_noise = (particles_noise[4, :])  > (particles_at_t_plus_one[4, :])\n",
      "data_cache/SI-dot-MBP-dot_size_0_5000-trial_15.npy  is locked !\n",
      "data_cache/SI-dot-MBP-dot_size_0_5000-trial_11.npy  is locked !\n",
      "/usr/local/lib/python3.6/site-packages/matplotlib/colors.py:231: RuntimeWarning: invalid value encountered in less\n",
      "  if np.any((result < 0) | (result > 1)):\n",
      "/usr/local/lib/python3.6/site-packages/matplotlib/colors.py:231: RuntimeWarning: invalid value encountered in greater\n",
      "  if np.any((result < 0) | (result > 1)):\n",
      "/usr/local/lib/python3.6/site-packages/matplotlib/colors.py:494: RuntimeWarning: invalid value encountered in less\n",
      "  cbook._putmask(xa, xa < 0.0, -1)\n",
      "Studying CONDENSATION by changing image along variable(s) : {'sigma_I': array([ 0.025 ,  0.0791,  0.25  ,  0.7906,  2.5   ])}\n",
      "data_cache/SI-dot-MBP-sigma_I_0_7906-trial_8.npy  is locked !\n",
      "data_cache/SI-dot-MBP-sigma_I_0_0791-trial_14.npy  is locked !\n"
     ]
    }
   ],
   "source": [
    "!ipython3 experiment_SI_controls.py"
   ]
  },
  {
   "cell_type": "markdown",
   "metadata": {
    "collapsed": true,
    "deletable": true,
    "editable": true
   },
   "source": [
    "## managing lock files\n",
    "\n",
    "counting:"
   ]
  },
  {
   "cell_type": "code",
   "execution_count": null,
   "metadata": {
    "collapsed": false,
    "deletable": true,
    "editable": true
   },
   "outputs": [],
   "source": [
    "!find . -name *lock* -exec ls -l {} \\; |wc -l"
   ]
  },
  {
   "cell_type": "code",
   "execution_count": null,
   "metadata": {
    "collapsed": false,
    "deletable": true,
    "editable": true
   },
   "outputs": [],
   "source": [
    "!find . -name *lock* -exec ls -l {} \\;"
   ]
  },
  {
   "cell_type": "markdown",
   "metadata": {
    "collapsed": false,
    "deletable": true,
    "editable": true
   },
   "source": [
    "## removing older files\n",
    "\n",
    "⚠️ THIS WILL DELETE (cached) FILES"
   ]
  },
  {
   "cell_type": "raw",
   "metadata": {
    "collapsed": false,
    "deletable": true,
    "editable": true
   },
   "source": [
    "!find . -name *lock* -exec rm -fr {} \\;"
   ]
  },
  {
   "cell_type": "markdown",
   "metadata": {
    "deletable": true,
    "editable": true
   },
   "source": [
    "## version control\n"
   ]
  },
  {
   "cell_type": "code",
   "execution_count": null,
   "metadata": {
    "collapsed": false,
    "deletable": true,
    "editable": true
   },
   "outputs": [],
   "source": [
    "!git commit -m' finished new run ' ../notebooks/control_jobs.ipynb"
   ]
  }
 ],
 "metadata": {
  "kernelspec": {
   "display_name": "Python 3",
   "language": "python",
   "name": "python3"
  },
  "language_info": {
   "codemirror_mode": {
    "name": "ipython",
    "version": 3
   },
   "file_extension": ".py",
   "mimetype": "text/x-python",
   "name": "python",
   "nbconvert_exporter": "python",
   "pygments_lexer": "ipython3",
   "version": "3.6.0"
  }
 },
 "nbformat": 4,
 "nbformat_minor": 0
}
