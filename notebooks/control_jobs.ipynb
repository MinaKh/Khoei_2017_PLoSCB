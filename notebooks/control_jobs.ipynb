{
 "cells": [
  {
   "cell_type": "code",
   "execution_count": 1,
   "metadata": {
    "collapsed": true,
    "deletable": true,
    "editable": true
   },
   "outputs": [],
   "source": [
    "%load_ext autoreload\n",
    "%autoreload 2\n",
    "\n",
    "from __future__ import division, print_function\n",
    "%matplotlib inline\n",
    "\n",
    "import matplotlib.pyplot as plt\n",
    "\n",
    "import numpy as np\n",
    "np.set_printoptions(precision=4)#, suppress=True)\n",
    "%cd -q ../scripts/"
   ]
  },
  {
   "cell_type": "markdown",
   "metadata": {
    "deletable": true,
    "editable": true
   },
   "source": [
    "# controlling jobs locally\n",
    "\n",
    "This is a set of convenient commands used to control simulations locally.\n"
   ]
  },
  {
   "cell_type": "markdown",
   "metadata": {
    "deletable": true,
    "editable": true
   },
   "source": [
    "## 🏄  running scripts 🏄"
   ]
  },
  {
   "cell_type": "code",
   "execution_count": 2,
   "metadata": {
    "collapsed": false,
    "deletable": true,
    "editable": true
   },
   "outputs": [
    {
     "name": "stdout",
     "output_type": "stream",
     "text": [
      "\u001b]0;IPython: Khoei_2017_PLoSCB/scripts\u0007Sequence results/FLE-dot-anim.mp4 already exists (remove to recompute)\n",
      "Studying CONDENSATION by changing image along variable(s) : {'latency': [0, 10]}\n",
      "Studying CONDENSATION by changing image along variable(s) : {'latency': [0, 10]}\n",
      "Sequence results/FLE-flash-anim.mp4 already exists (remove to recompute)\n",
      "Studying CONDENSATION by changing image along variable(s) : {'latency': [0, 10]}\n",
      "Studying CONDENSATION by changing image along variable(s) : {'latency': [0, 10]}\n"
     ]
    }
   ],
   "source": [
    "!ipython3 experiment_fle.py"
   ]
  },
  {
   "cell_type": "code",
   "execution_count": 3,
   "metadata": {
    "collapsed": false,
    "deletable": true,
    "editable": true
   },
   "outputs": [
    {
     "name": "stdout",
     "output_type": "stream",
     "text": [
      "\u001b]0;IPython: Khoei_2017_PLoSCB/scripts\u0007Studying CONDENSATION by changing image along variable(s) : {'V_X': array([ 3.75 ,  3.475,  3.2  ,  2.925,  2.65 ,  2.375,  2.1  ,  1.825,\n",
      "        1.55 ,  1.275,  1.   ]), 'X_0': array([-3.75 , -3.475, -3.2  , -2.925, -2.65 , -2.375, -2.1  , -1.825,\n",
      "       -1.55 , -1.275, -1.   ]), 'flash_start': array([ 0.3933,  0.3849,  0.375 ,  0.3632,  0.3491,  0.3316,  0.3095,\n",
      "        0.2808,  0.2419,  0.1863,  0.1   ]), 'flash_duration': array([ 0.2133,  0.2302,  0.25  ,  0.2735,  0.3019,  0.3368,  0.381 ,\n",
      "        0.4384,  0.5161,  0.6275,  0.8   ])}\n",
      "Studying CONDENSATION by changing image along variable(s) : {'V_X': array([ 3.75 ,  3.475,  3.2  ,  2.925,  2.65 ,  2.375,  2.1  ,  1.825,\n",
      "        1.55 ,  1.275,  1.   ]), 'X_0': array([-3.75 , -3.475, -3.2  , -2.925, -2.65 , -2.375, -2.1  , -1.825,\n",
      "       -1.55 , -1.275, -1.   ]), 'flash_start': array([ 0.3933,  0.3849,  0.375 ,  0.3632,  0.3491,  0.3316,  0.3095,\n",
      "        0.2808,  0.2419,  0.1863,  0.1   ]), 'flash_duration': array([ 0.2133,  0.2302,  0.25  ,  0.2735,  0.3019,  0.3368,  0.381 ,\n",
      "        0.4384,  0.5161,  0.6275,  0.8   ])}\n"
     ]
    }
   ],
   "source": [
    "!ipython3 experiment_speed.py"
   ]
  },
  {
   "cell_type": "code",
   "execution_count": 4,
   "metadata": {
    "collapsed": false,
    "deletable": true,
    "editable": true
   },
   "outputs": [
    {
     "name": "stdout",
     "output_type": "stream",
     "text": [
      "\u001b]0;IPython: Khoei_2017_PLoSCB/scripts\u0007Studying CONDENSATION by changing image along variable(s) : {'im_contrast': array([ 0.2436,  0.3132,  0.4026,  0.5176,  0.6655,  0.8556,  1.1   ])}\n",
      ">>> Stimulus  dot MBP  at contrast=  0.2435854728\n",
      ">>> Stimulus  dot MBP  at contrast=  0.313166109656\n",
      ">>> Stimulus  dot MBP  at contrast=  0.402622582987\n",
      ">>> Stimulus  dot MBP  at contrast=  0.517632461921\n",
      ">>> Stimulus  dot MBP  at contrast=  0.665495123612\n",
      ">>> Stimulus  dot MBP  at contrast=  0.855595025683\n",
      ">>> Stimulus  dot MBP  at contrast=  1.09999731328\n",
      "Studying CONDENSATION by changing image along variable(s) : {'im_contrast': array([ 0.2436,  0.3132,  0.4026,  0.5176,  0.6655,  0.8556,  1.1   ])}\n",
      ">>> Stimulus  flash MBP  at contrast=  0.2435854728\n",
      ">>> Stimulus  flash MBP  at contrast=  0.313166109656\n",
      ">>> Stimulus  flash MBP  at contrast=  0.402622582987\n",
      ">>> Stimulus  flash MBP  at contrast=  0.517632461921\n",
      ">>> Stimulus  flash MBP  at contrast=  0.665495123612\n",
      ">>> Stimulus  flash MBP  at contrast=  0.855595025683\n",
      ">>> Stimulus  flash MBP  at contrast=  1.09999731328\n",
      "Studying CONDENSATION by changing image along variable(s) : {'flash_start': array([ 0.485,  0.475,  0.46 ,  0.435,  0.375]), 'flash_duration': array([ 0.03,  0.05,  0.08,  0.13,  0.25])}\n"
     ]
    }
   ],
   "source": [
    "!ipython3 experiment_contrast.py"
   ]
  },
  {
   "cell_type": "code",
   "execution_count": 5,
   "metadata": {
    "collapsed": false,
    "deletable": true,
    "editable": true
   },
   "outputs": [
    {
     "name": "stdout",
     "output_type": "stream",
     "text": [
      "\u001b]0;IPython: Khoei_2017_PLoSCB/scripts\u0007Sequence results/MotionReversal-anim-dot.mp4 already exists (remove to recompute)\n",
      "Studying CONDENSATION by changing image along variable(s) : {'latency': [0, 10]}\n",
      "Studying CONDENSATION by changing image along variable(s) : {'latency': [0, 10]}\n"
     ]
    }
   ],
   "source": [
    "!ipython3 experiment_MotionReversal.py"
   ]
  },
  {
   "cell_type": "code",
   "execution_count": 6,
   "metadata": {
    "collapsed": false,
    "deletable": true,
    "editable": true,
    "scrolled": false
   },
   "outputs": [
    {
     "name": "stdout",
     "output_type": "stream",
     "text": [
      "\u001b]0;IPython: Khoei_2017_PLoSCB/scripts\u0007Studying CONDENSATION by changing image along variable(s) : {'D_x': array([  1.0000e-02,   1.0000e-01,   1.0000e+00,   1.0000e+01,   1.0000e+02])}\n",
      "Studying CONDENSATION by changing image along variable(s) : {'D_V': array([  1.0000e-02,   1.0000e-01,   1.0000e+00,   1.0000e+01,   1.0000e+02])}\n",
      "Studying CONDENSATION by changing image along variable(s) : {'sigma_motion': array([ 0.01  ,  0.0316,  0.1   ,  0.3162,  1.    ])}\n",
      "Studying CONDENSATION by changing image along variable(s) : {'K_motion': array([ 0.0001,  0.0003,  0.001 ,  0.0032,  0.01  ])}\n",
      "Studying CONDENSATION by changing image along variable(s) : {'dot_size': array([ 0.005 ,  0.0158,  0.05  ,  0.1581,  0.5   ])}\n",
      "/Users/lolo/science/Khoei_2017_PLoSCB/scripts/MotionParticles.py:1990: RuntimeWarning: invalid value encountered in true_divide\n",
      "  tube /= tube.max()\n",
      "Studying CONDENSATION by changing image along variable(s) : {'sigma_I': array([ 0.025 ,  0.0791,  0.25  ,  0.7906,  2.5   ])}\n",
      "Studying CONDENSATION by changing image along variable(s) : {'im_noise': array([ 0.005 ,  0.0158,  0.05  ,  0.1581,  0.5   ])}\n",
      "Studying CONDENSATION by changing image along variable(s) : {'sigma_noise': array([ 0.005 ,  0.0158,  0.05  ,  0.1581,  0.5   ])}\n",
      "Studying CONDENSATION by changing image along variable(s) : {'p_epsilon': array([ 0.01  ,  0.0316,  0.1   ,  0.3162,  1.    ])}\n",
      "Studying CONDENSATION by changing image along variable(s) : {'v_init': array([  0.3   ,   0.9487,   3.    ,   9.4868,  30.    ])}\n",
      "Studying CONDENSATION by changing image along variable(s) : {'v_prior': array([  5.0119e-01,   1.0593e+01,   2.2387e+02,   4.7315e+03,   1.0000e+05])}\n",
      "Studying CONDENSATION by changing image along variable(s) : {'resample': array([ 0.1  ,  0.325,  0.55 ,  0.775,  1.   ])}\n",
      "Studying CONDENSATION by changing image along variable(s) : {'D_x': array([  1.0000e-02,   1.0000e-01,   1.0000e+00,   1.0000e+01,   1.0000e+02])}\n",
      "Studying CONDENSATION by changing image along variable(s) : {'D_V': array([  1.0000e-02,   1.0000e-01,   1.0000e+00,   1.0000e+01,   1.0000e+02])}\n",
      "Studying CONDENSATION by changing image along variable(s) : {'sigma_motion': array([ 0.01  ,  0.0316,  0.1   ,  0.3162,  1.    ])}\n",
      "Studying CONDENSATION by changing image along variable(s) : {'K_motion': array([ 0.0001,  0.0003,  0.001 ,  0.0032,  0.01  ])}\n",
      "Studying CONDENSATION by changing image along variable(s) : {'dot_size': array([ 0.005 ,  0.0158,  0.05  ,  0.1581,  0.5   ])}\n",
      "Studying CONDENSATION by changing image along variable(s) : {'sigma_I': array([ 0.025 ,  0.0791,  0.25  ,  0.7906,  2.5   ])}\n",
      "Studying CONDENSATION by changing image along variable(s) : {'im_noise': array([ 0.005 ,  0.0158,  0.05  ,  0.1581,  0.5   ])}\n",
      "Studying CONDENSATION by changing image along variable(s) : {'sigma_noise': array([ 0.005 ,  0.0158,  0.05  ,  0.1581,  0.5   ])}\n",
      "Studying CONDENSATION by changing image along variable(s) : {'p_epsilon': array([ 0.01  ,  0.0316,  0.1   ,  0.3162,  1.    ])}\n",
      "Studying CONDENSATION by changing image along variable(s) : {'v_init': array([  0.3   ,   0.9487,   3.    ,   9.4868,  30.    ])}\n",
      "Studying CONDENSATION by changing image along variable(s) : {'v_prior': array([  5.0119e-01,   1.0593e+01,   2.2387e+02,   4.7315e+03,   1.0000e+05])}\n",
      "Studying CONDENSATION by changing image along variable(s) : {'resample': array([ 0.1  ,  0.325,  0.55 ,  0.775,  1.   ])}\n"
     ]
    }
   ],
   "source": [
    "!ipython3 experiment_SI_controls.py"
   ]
  },
  {
   "cell_type": "markdown",
   "metadata": {
    "collapsed": true,
    "deletable": true,
    "editable": true
   },
   "source": [
    "## managing lock files\n",
    "\n",
    "counting:"
   ]
  },
  {
   "cell_type": "code",
   "execution_count": 7,
   "metadata": {
    "collapsed": false,
    "deletable": true,
    "editable": true
   },
   "outputs": [
    {
     "name": "stdout",
     "output_type": "stream",
     "text": [
      "       2\r\n"
     ]
    }
   ],
   "source": [
    "!find . -name *lock* -exec ls -l {} \\; |wc -l"
   ]
  },
  {
   "cell_type": "code",
   "execution_count": 8,
   "metadata": {
    "collapsed": false,
    "deletable": true,
    "editable": true
   },
   "outputs": [
    {
     "name": "stdout",
     "output_type": "stream",
     "text": [
      "-rw-r--r--  1 lolo  staff  0 Feb 20 16:07 ./results/SI-dot-MBP-sigma_noise_0_1581_particles.png_lock\r\n",
      "-rw-r--r--  1 lolo  staff  0 Feb 20 16:07 ./results/SI-dot-MBP-sigma_noise_0_1581_particles.png_lock_pid-61441_host-emmy\r\n"
     ]
    }
   ],
   "source": [
    "!find . -name *lock* -exec ls -l {} \\;"
   ]
  },
  {
   "cell_type": "markdown",
   "metadata": {
    "collapsed": false,
    "deletable": true,
    "editable": true
   },
   "source": [
    "## removing older files\n",
    "\n",
    "⚠️ THIS WILL DELETE (cached) FILES"
   ]
  },
  {
   "cell_type": "raw",
   "metadata": {
    "collapsed": false,
    "deletable": true,
    "editable": true
   },
   "source": [
    "!find . -name *lock* -exec rm -fr {} \\;"
   ]
  },
  {
   "cell_type": "markdown",
   "metadata": {
    "deletable": true,
    "editable": true
   },
   "source": [
    "## version control\n"
   ]
  },
  {
   "cell_type": "code",
   "execution_count": 9,
   "metadata": {
    "collapsed": false,
    "deletable": true,
    "editable": true
   },
   "outputs": [
    {
     "name": "stdout",
     "output_type": "stream",
     "text": [
      "[master ad521f8]  finished new run\r\n",
      " 1 file changed, 48 insertions(+), 6 deletions(-)\r\n"
     ]
    }
   ],
   "source": [
    "!git commit -m' finished new run ' ../notebooks/control_jobs.ipynb"
   ]
  }
 ],
 "metadata": {
  "kernelspec": {
   "display_name": "Python 3",
   "language": "python",
   "name": "python3"
  },
  "language_info": {
   "codemirror_mode": {
    "name": "ipython",
    "version": 3
   },
   "file_extension": ".py",
   "mimetype": "text/x-python",
   "name": "python",
   "nbconvert_exporter": "python",
   "pygments_lexer": "ipython3",
   "version": "3.6.0"
  }
 },
 "nbformat": 4,
 "nbformat_minor": 0
}
