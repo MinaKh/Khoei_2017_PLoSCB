{
 "cells": [
  {
   "cell_type": "code",
   "execution_count": 1,
   "metadata": {
    "collapsed": true,
    "deletable": true,
    "editable": true
   },
   "outputs": [],
   "source": [
    "%load_ext autoreload\n",
    "%autoreload 2\n",
    "\n",
    "from __future__ import division, print_function\n",
    "%matplotlib inline\n",
    "\n",
    "import matplotlib.pyplot as plt\n",
    "\n",
    "import numpy as np\n",
    "np.set_printoptions(precision=4)#, suppress=True)\n",
    "%cd -q ../scripts/"
   ]
  },
  {
   "cell_type": "markdown",
   "metadata": {
    "deletable": true,
    "editable": true
   },
   "source": [
    "# controlling jobs locally\n",
    "\n",
    "This is a set of convenient commands used to control simulations locally.\n"
   ]
  },
  {
   "cell_type": "markdown",
   "metadata": {
    "deletable": true,
    "editable": true
   },
   "source": [
    "## 🏄  running scripts 🏄"
   ]
  },
  {
   "cell_type": "code",
   "execution_count": null,
   "metadata": {
    "collapsed": false,
    "deletable": true,
    "editable": true
   },
   "outputs": [
    {
     "name": "stdout",
     "output_type": "stream",
     "text": [
      "\u001b]0;IPython: Khoei_2017_PLoSCB/scripts\u0007Sequence results/FLE-dot-anim.mp4 already exists (remove to recompute)\n",
      "Studying CONDENSATION by changing image along variable(s) : {'latency': [0, 10]}\n",
      "Studying CONDENSATION by changing image along variable(s) : {'latency': [0, 10]}\n",
      "Sequence results/FLE-flash-anim.mp4 already exists (remove to recompute)\n",
      "Studying CONDENSATION by changing image along variable(s) : {'latency': [0, 10]}\n",
      "Studying CONDENSATION by changing image along variable(s) : {'latency': [0, 10]}\n"
     ]
    }
   ],
   "source": [
    "!ipython3 experiment_fle.py"
   ]
  },
  {
   "cell_type": "code",
   "execution_count": null,
   "metadata": {
    "collapsed": false,
    "deletable": true,
    "editable": true
   },
   "outputs": [
    {
     "name": "stdout",
     "output_type": "stream",
     "text": [
      "\u001b]0;IPython: Khoei_2017_PLoSCB/scripts\u0007Studying CONDENSATION by changing image along variable(s) : {'V_X': array([ 3.75 ,  3.475,  3.2  ,  2.925,  2.65 ,  2.375,  2.1  ,  1.825,\r\n",
      "        1.55 ,  1.275,  1.   ]), 'X_0': array([-3.75 , -3.475, -3.2  , -2.925, -2.65 , -2.375, -2.1  , -1.825,\r\n",
      "       -1.55 , -1.275, -1.   ]), 'flash_start': array([ 0.3933,  0.3849,  0.375 ,  0.3632,  0.3491,  0.3316,  0.3095,\r\n",
      "        0.2808,  0.2419,  0.1863,  0.1   ]), 'flash_duration': array([ 0.2133,  0.2302,  0.25  ,  0.2735,  0.3019,  0.3368,  0.381 ,\r\n",
      "        0.4384,  0.5161,  0.6275,  0.8   ])}\r\n"
     ]
    }
   ],
   "source": [
    "!ipython3 experiment_speed.py"
   ]
  },
  {
   "cell_type": "code",
   "execution_count": null,
   "metadata": {
    "collapsed": false,
    "deletable": true,
    "editable": true
   },
   "outputs": [
    {
     "name": "stdout",
     "output_type": "stream",
     "text": [
      "\u001b]0;IPython: Khoei_2017_PLoSCB/scripts\u0007Studying CONDENSATION by changing image along variable(s) : {'im_contrast': array([ 0.2436,  0.3132,  0.4026,  0.5176,  0.6655,  0.8556,  1.1   ])}\n",
      ">>> Stimulus  dot MBP  at contrast=  0.2435854728\n",
      ">>> Stimulus  dot MBP  at contrast=  0.313166109656\n",
      ">>> Stimulus  dot MBP  at contrast=  0.402622582987\n",
      ">>> Stimulus  dot MBP  at contrast=  0.517632461921\n",
      ">>> Stimulus  dot MBP  at contrast=  0.665495123612\n",
      ">>> Stimulus  dot MBP  at contrast=  0.855595025683\n",
      ">>> Stimulus  dot MBP  at contrast=  1.09999731328\n",
      "Studying CONDENSATION by changing image along variable(s) : {'im_contrast': array([ 0.2436,  0.3132,  0.4026,  0.5176,  0.6655,  0.8556,  1.1   ])}\n",
      ">>> Stimulus  flash MBP  at contrast=  0.2435854728\n",
      ">>> Stimulus  flash MBP  at contrast=  0.313166109656\n",
      ">>> Stimulus  flash MBP  at contrast=  0.402622582987\n",
      ">>> Stimulus  flash MBP  at contrast=  0.517632461921\n",
      ">>> Stimulus  flash MBP  at contrast=  0.665495123612\n",
      ">>> Stimulus  flash MBP  at contrast=  0.855595025683\n",
      ">>> Stimulus  flash MBP  at contrast=  1.09999731328\n",
      "Studying CONDENSATION by changing image along variable(s) : {'flash_start': array([ 0.485,  0.475,  0.46 ,  0.435,  0.375]), 'flash_duration': array([ 0.03,  0.05,  0.08,  0.13,  0.25])}\n",
      "data_cache/duration-flash-MBP-flash_duration_0_2500-flash_start_0_3750.npy  is locked\n"
     ]
    }
   ],
   "source": [
    "!ipython3 experiment_contrast.py"
   ]
  },
  {
   "cell_type": "code",
   "execution_count": null,
   "metadata": {
    "collapsed": false,
    "deletable": true,
    "editable": true
   },
   "outputs": [
    {
     "name": "stdout",
     "output_type": "stream",
     "text": [
      "\u001b]0;IPython: Khoei_2017_PLoSCB/scripts\u0007Sequence results/MotionReversal-anim-dot.mp4 already exists (remove to recompute)\n",
      "Studying CONDENSATION by changing image along variable(s) : {'latency': [0, 10]}\n",
      "Studying CONDENSATION by changing image along variable(s) : {'latency': [0, 10]}\n"
     ]
    }
   ],
   "source": [
    "!ipython3 experiment_MotionReversal.py"
   ]
  },
  {
   "cell_type": "code",
   "execution_count": null,
   "metadata": {
    "collapsed": false,
    "deletable": true,
    "editable": true,
    "scrolled": false
   },
   "outputs": [
    {
     "name": "stdout",
     "output_type": "stream",
     "text": [
      "\u001b]0;IPython: Khoei_2017_PLoSCB/scripts\u0007Studying CONDENSATION by changing image along variable(s) : {'D_x': array([  1.0000e-02,   1.0000e-01,   1.0000e+00,   1.0000e+01,   1.0000e+02])}\n",
      "Studying CONDENSATION by changing image along variable(s) : {'D_V': array([  1.0000e-02,   1.0000e-01,   1.0000e+00,   1.0000e+01,   1.0000e+02])}\n",
      "Studying CONDENSATION by changing image along variable(s) : {'sigma_motion': array([ 0.01  ,  0.0316,  0.1   ,  0.3162,  1.    ])}\n",
      "Studying CONDENSATION by changing image along variable(s) : {'K_motion': array([ 0.0001,  0.0003,  0.001 ,  0.0032,  0.01  ])}\n",
      "Studying CONDENSATION by changing image along variable(s) : {'dot_size': array([ 0.005 ,  0.0158,  0.05  ,  0.1581,  0.5   ])}\n",
      "/Users/lolo/science/Khoei_2017_PLoSCB/scripts/MotionParticles.py:1990: RuntimeWarning: invalid value encountered in true_divide\n",
      "  tube /= tube.max()\n",
      "Studying CONDENSATION by changing image along variable(s) : {'sigma_I': array([ 0.025 ,  0.0791,  0.25  ,  0.7906,  2.5   ])}\n",
      "Studying CONDENSATION by changing image along variable(s) : {'im_noise': array([ 0.005 ,  0.0158,  0.05  ,  0.1581,  0.5   ])}\n",
      "Studying CONDENSATION by changing image along variable(s) : {'sigma_noise': array([ 0.005 ,  0.0158,  0.05  ,  0.1581,  0.5   ])}\n",
      "Studying CONDENSATION by changing image along variable(s) : {'p_epsilon': array([ 0.01  ,  0.0316,  0.1   ,  0.3162,  1.    ])}\n",
      "Studying CONDENSATION by changing image along variable(s) : {'v_init': array([  0.3   ,   0.9487,   3.    ,   9.4868,  30.    ])}\n",
      "Studying CONDENSATION by changing image along variable(s) : {'v_prior': array([  5.0119e-01,   1.0593e+01,   2.2387e+02,   4.7315e+03,   1.0000e+05])}\n",
      "Studying CONDENSATION by changing image along variable(s) : {'resample': array([ 0.1  ,  0.325,  0.55 ,  0.775,  1.   ])}\n",
      "Studying CONDENSATION by changing image along variable(s) : {'D_x': array([  1.0000e-02,   1.0000e-01,   1.0000e+00,   1.0000e+01,   1.0000e+02])}\n",
      "data_cache/SI-flash-MBP-D_x_100_0000-trial_1.npy  is locked !\n",
      "data_cache/SI-flash-MBP-D_x_100_0000-trial_12.npy  is locked !\n",
      "data_cache/SI-flash-MBP-D_x_1_0000-trial_3.npy  is locked !\n",
      "data_cache/SI-flash-MBP-D_x_1_0000-trial_14.npy  is locked !\n",
      "data_cache/SI-flash-MBP-D_x_1_0000-trial_19.npy  is locked !\n",
      "Studying CONDENSATION by changing image along variable(s) : {'D_V': array([  1.0000e-02,   1.0000e-01,   1.0000e+00,   1.0000e+01,   1.0000e+02])}\n",
      "Studying CONDENSATION by changing image along variable(s) : {'sigma_motion': array([ 0.01  ,  0.0316,  0.1   ,  0.3162,  1.    ])}\n",
      "Studying CONDENSATION by changing image along variable(s) : {'K_motion': array([ 0.0001,  0.0003,  0.001 ,  0.0032,  0.01  ])}\n",
      "data_cache/SI-flash-MBP-K_motion_0_0100-trial_8.npy  is locked !\n",
      "data_cache/SI-flash-MBP-K_motion_0_0100-trial_7.npy  is locked !\n",
      "data_cache/SI-flash-MBP-K_motion_0_0003-trial_18.npy  is locked !\n",
      "data_cache/SI-flash-MBP-K_motion_0_0003-trial_0.npy  is locked !\n",
      "data_cache/SI-flash-MBP-K_motion_0_0003-trial_8.npy  is locked !\n",
      "Studying CONDENSATION by changing image along variable(s) : {'dot_size': array([ 0.005 ,  0.0158,  0.05  ,  0.1581,  0.5   ])}\n",
      "data_cache/SI-flash-MBP-dot_size_0_1581-trial_3.npy  is locked !\n",
      "/Users/lolo/science/Khoei_2017_PLoSCB/scripts/MotionParticles.py:427: RuntimeWarning: invalid value encountered in greater\n",
      "  winners_noise = (particles_noise[4, :])  > (particles_at_t_plus_one[4, :])\n",
      "data_cache/SI-flash-MBP-dot_size_0_0050-trial_2.npy  is locked !\n",
      "data_cache/SI-flash-MBP-dot_size_0_0050-trial_18.npy  is locked !\n",
      "/usr/local/lib/python3.6/site-packages/matplotlib/colors.py:231: RuntimeWarning: invalid value encountered in less\n",
      "  if np.any((result < 0) | (result > 1)):\n",
      "/usr/local/lib/python3.6/site-packages/matplotlib/colors.py:231: RuntimeWarning: invalid value encountered in greater\n",
      "  if np.any((result < 0) | (result > 1)):\n",
      "/usr/local/lib/python3.6/site-packages/matplotlib/colors.py:494: RuntimeWarning: invalid value encountered in less\n",
      "  cbook._putmask(xa, xa < 0.0, -1)\n",
      "Studying CONDENSATION by changing image along variable(s) : {'sigma_I': array([ 0.025 ,  0.0791,  0.25  ,  0.7906,  2.5   ])}\n",
      "Studying CONDENSATION by changing image along variable(s) : {'im_noise': array([ 0.005 ,  0.0158,  0.05  ,  0.1581,  0.5   ])}\n",
      "data_cache/SI-flash-MBP-im_noise_0_0158-trial_19.npy  is locked !\n",
      "figures could not be plotted cannot reshape array of size 164864 into shape (5,4096,100)\n",
      "Studying CONDENSATION by changing image along variable(s) : {'sigma_noise': array([ 0.005 ,  0.0158,  0.05  ,  0.1581,  0.5   ])}\n",
      "Studying CONDENSATION by changing image along variable(s) : {'p_epsilon': array([ 0.01  ,  0.0316,  0.1   ,  0.3162,  1.    ])}\n",
      "data_cache/SI-flash-MBP-p_epsilon_1_0000-trial_15.npy  is locked !\n",
      "data_cache/SI-flash-MBP-p_epsilon_1_0000-trial_14.npy  is locked !\n",
      "data_cache/SI-flash-MBP-p_epsilon_1_0000-trial_14.npy  is locked !\n",
      "Studying CONDENSATION by changing image along variable(s) : {'v_init': array([  0.3   ,   0.9487,   3.    ,   9.4868,  30.    ])}\n",
      "data_cache/SI-flash-MBP-v_init_0_3000-trial_18.npy  is locked !\n",
      "data_cache/SI-flash-MBP-v_init_0_3000-trial_17.npy  is locked !\n",
      "data_cache/SI-flash-MBP-v_init_3_0000-trial_13.npy  is locked !\n",
      "Studying CONDENSATION by changing image along variable(s) : {'v_prior': array([  5.0119e-01,   1.0593e+01,   2.2387e+02,   4.7315e+03,   1.0000e+05])}\n",
      "data_cache/SI-flash-MBP-v_prior_4731_5126-trial_15.npy  is locked !\n",
      "data_cache/SI-flash-MBP-v_prior_4731_5126-trial_12.npy  is locked !\n",
      "data_cache/SI-flash-MBP-v_prior_0_5012.npy  is locked\n",
      "data_cache/SI-flash-MBP-v_prior_10_5925.npy  is locked\n",
      "data_cache/SI-flash-MBP-v_prior_100000_0000.npy  is locked\n",
      "Studying CONDENSATION by changing image along variable(s) : {'resample': array([ 0.1  ,  0.325,  0.55 ,  0.775,  1.   ])}\n",
      "data_cache/SI-flash-MBP-resample_0_7750-trial_0.npy  is locked !\n",
      "data_cache/SI-flash-MBP-resample_0_3250-trial_10.npy  is locked !\n",
      "data_cache/SI-flash-MBP-resample_0_5500-trial_17.npy  is locked !\n"
     ]
    }
   ],
   "source": [
    "!ipython3 experiment_SI_controls.py"
   ]
  },
  {
   "cell_type": "markdown",
   "metadata": {
    "collapsed": true,
    "deletable": true,
    "editable": true
   },
   "source": [
    "## managing lock files\n",
    "\n",
    "counting:"
   ]
  },
  {
   "cell_type": "code",
   "execution_count": null,
   "metadata": {
    "collapsed": false,
    "deletable": true,
    "editable": true
   },
   "outputs": [
    {
     "name": "stdout",
     "output_type": "stream",
     "text": [
      "       2\r\n"
     ]
    }
   ],
   "source": [
    "!find . -name *lock* -exec ls -l {} \\; |wc -l"
   ]
  },
  {
   "cell_type": "code",
   "execution_count": null,
   "metadata": {
    "collapsed": false,
    "deletable": true,
    "editable": true
   },
   "outputs": [
    {
     "name": "stdout",
     "output_type": "stream",
     "text": [
      "-rw-r--r--  1 lolo  staff  0 Feb 20 16:07 ./results/SI-dot-MBP-sigma_noise_0_1581_particles.png_lock\r\n",
      "-rw-r--r--  1 lolo  staff  0 Feb 20 16:07 ./results/SI-dot-MBP-sigma_noise_0_1581_particles.png_lock_pid-61441_host-emmy\r\n"
     ]
    }
   ],
   "source": [
    "!find . -name *lock* -exec ls -l {} \\;"
   ]
  },
  {
   "cell_type": "markdown",
   "metadata": {
    "collapsed": false,
    "deletable": true,
    "editable": true
   },
   "source": [
    "## removing older files\n",
    "\n",
    "⚠️ THIS WILL DELETE (cached) FILES"
   ]
  },
  {
   "cell_type": "raw",
   "metadata": {
    "collapsed": false,
    "deletable": true,
    "editable": true
   },
   "source": [
    "!find . -name *lock* -exec rm -fr {} \\;"
   ]
  },
  {
   "cell_type": "markdown",
   "metadata": {
    "deletable": true,
    "editable": true
   },
   "source": [
    "## version control\n"
   ]
  },
  {
   "cell_type": "code",
   "execution_count": null,
   "metadata": {
    "collapsed": false,
    "deletable": true,
    "editable": true
   },
   "outputs": [
    {
     "name": "stdout",
     "output_type": "stream",
     "text": [
      "[master a66f6e6]  finished new run\r\n",
      " 1 file changed, 31 insertions(+), 1 deletion(-)\r\n"
     ]
    }
   ],
   "source": [
    "!git commit -m' finished new run ' ../notebooks/control_jobs.ipynb"
   ]
  }
 ],
 "metadata": {
  "kernelspec": {
   "display_name": "Python 3",
   "language": "python",
   "name": "python3"
  },
  "language_info": {
   "codemirror_mode": {
    "name": "ipython",
    "version": 3
   },
   "file_extension": ".py",
   "mimetype": "text/x-python",
   "name": "python",
   "nbconvert_exporter": "python",
   "pygments_lexer": "ipython3",
   "version": "3.6.0"
  }
 },
 "nbformat": 4,
 "nbformat_minor": 0
}
